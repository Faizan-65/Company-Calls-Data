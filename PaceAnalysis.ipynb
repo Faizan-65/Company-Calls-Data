{
 "cells": [
  {
   "cell_type": "markdown",
   "metadata": {},
   "source": [
    "## Questions\n",
    "\n",
    "1. What is the average applying duration of team member?\n",
    "2. How many ineffective hours are they employing?\n",
    "3. How many of the job titles are irrelevant? \n",
    "4. During which time, most of the working is done by each member?\n",
    "\n",
    "\n"
   ]
  },
  {
   "cell_type": "code",
   "execution_count": 17,
   "metadata": {},
   "outputs": [],
   "source": [
    "import pandas as pd"
   ]
  },
  {
   "cell_type": "code",
   "execution_count": 18,
   "metadata": {},
   "outputs": [
    {
     "data": {
      "text/html": [
       "<div>\n",
       "<style scoped>\n",
       "    .dataframe tbody tr th:only-of-type {\n",
       "        vertical-align: middle;\n",
       "    }\n",
       "\n",
       "    .dataframe tbody tr th {\n",
       "        vertical-align: top;\n",
       "    }\n",
       "\n",
       "    .dataframe thead th {\n",
       "        text-align: right;\n",
       "    }\n",
       "</style>\n",
       "<table border=\"1\" class=\"dataframe\">\n",
       "  <thead>\n",
       "    <tr style=\"text-align: right;\">\n",
       "      <th></th>\n",
       "      <th>Job ID</th>\n",
       "      <th>Job Created At</th>\n",
       "      <th>Job Title</th>\n",
       "      <th>Job Location</th>\n",
       "      <th>Job Region</th>\n",
       "      <th>Posted At</th>\n",
       "      <th>Company ID</th>\n",
       "      <th>Job Role</th>\n",
       "      <th>Job Source</th>\n",
       "      <th>Primary Tech Stack</th>\n",
       "      <th>Secondary Tech Stacks</th>\n",
       "      <th>Job Types</th>\n",
       "      <th>Job Created By</th>\n",
       "      <th>Job Applied By</th>\n",
       "      <th>Applied Job ID</th>\n",
       "      <th>Applied At</th>\n",
       "      <th>Pseudo</th>\n",
       "      <th>Vertical</th>\n",
       "    </tr>\n",
       "  </thead>\n",
       "  <tbody>\n",
       "    <tr>\n",
       "      <th>1763</th>\n",
       "      <td>1840019</td>\n",
       "      <td>25/Jul/2024 09:40</td>\n",
       "      <td>Senior Software Engineer - Frontend,</td>\n",
       "      <td>Remote</td>\n",
       "      <td>Us</td>\n",
       "      <td>2024-07-25 00:00:00 -0700</td>\n",
       "      <td>109975</td>\n",
       "      <td>Dev</td>\n",
       "      <td>Glassdoor</td>\n",
       "      <td>Node.js</td>\n",
       "      <td>JavaScript/TypeScript and React</td>\n",
       "      <td>Full Time</td>\n",
       "      <td>Ans Bin Asif (ID - 2295)</td>\n",
       "      <td>Muhammad Ali (ID - 1566)</td>\n",
       "      <td>1810935</td>\n",
       "      <td>26/Jul/2024 16:05</td>\n",
       "      <td>Naveed H Zaidi - TechXpark</td>\n",
       "      <td>Ned Hassan - Dev</td>\n",
       "    </tr>\n",
       "    <tr>\n",
       "      <th>1764</th>\n",
       "      <td>1839992</td>\n",
       "      <td>25/Jul/2024 09:27</td>\n",
       "      <td>Senior Software Engineer (React)</td>\n",
       "      <td>Remote</td>\n",
       "      <td>Us</td>\n",
       "      <td>2024-07-25 00:00:00 -0700</td>\n",
       "      <td>111582</td>\n",
       "      <td>Dev</td>\n",
       "      <td>builtin</td>\n",
       "      <td>Frontend</td>\n",
       "      <td>React</td>\n",
       "      <td>Full Time</td>\n",
       "      <td>Muhammad Tausif ul Hassan (ID - 2159)</td>\n",
       "      <td>Muhammad Ali (ID - 1566)</td>\n",
       "      <td>1810942</td>\n",
       "      <td>26/Jul/2024 16:07</td>\n",
       "      <td>Naveed H Zaidi - TechXpark</td>\n",
       "      <td>Ned Hassan - Dev</td>\n",
       "    </tr>\n",
       "    <tr>\n",
       "      <th>1765</th>\n",
       "      <td>1839899</td>\n",
       "      <td>25/Jul/2024 08:49</td>\n",
       "      <td>Senior Full-Stack Engineer (NodeJS, React, Typ...</td>\n",
       "      <td>Remote</td>\n",
       "      <td>Us</td>\n",
       "      <td>2024-07-25 00:00:00 -0700</td>\n",
       "      <td>101631</td>\n",
       "      <td>Dev</td>\n",
       "      <td>Glassdoor</td>\n",
       "      <td>Node.js</td>\n",
       "      <td>React and TypeScript</td>\n",
       "      <td>Full Time</td>\n",
       "      <td>Ans Bin Asif (ID - 2295)</td>\n",
       "      <td>Muhammad Ali (ID - 1566)</td>\n",
       "      <td>1810949</td>\n",
       "      <td>26/Jul/2024 16:11</td>\n",
       "      <td>Naveed H Zaidi - TechXpark</td>\n",
       "      <td>Ned Hassan - Dev</td>\n",
       "    </tr>\n",
       "  </tbody>\n",
       "</table>\n",
       "</div>"
      ],
      "text/plain": [
       "       Job ID     Job Created At  \\\n",
       "1763  1840019  25/Jul/2024 09:40   \n",
       "1764  1839992  25/Jul/2024 09:27   \n",
       "1765  1839899  25/Jul/2024 08:49   \n",
       "\n",
       "                                              Job Title Job Location  \\\n",
       "1763               Senior Software Engineer - Frontend,       Remote   \n",
       "1764                   Senior Software Engineer (React)       Remote   \n",
       "1765  Senior Full-Stack Engineer (NodeJS, React, Typ...       Remote   \n",
       "\n",
       "     Job Region                  Posted At  Company ID Job Role Job Source  \\\n",
       "1763         Us  2024-07-25 00:00:00 -0700      109975      Dev  Glassdoor   \n",
       "1764         Us  2024-07-25 00:00:00 -0700      111582      Dev    builtin   \n",
       "1765         Us  2024-07-25 00:00:00 -0700      101631      Dev  Glassdoor   \n",
       "\n",
       "     Primary Tech Stack            Secondary Tech Stacks  Job Types  \\\n",
       "1763            Node.js  JavaScript/TypeScript and React  Full Time   \n",
       "1764           Frontend                            React  Full Time   \n",
       "1765            Node.js             React and TypeScript  Full Time   \n",
       "\n",
       "                             Job Created By            Job Applied By  \\\n",
       "1763               Ans Bin Asif (ID - 2295)  Muhammad Ali (ID - 1566)   \n",
       "1764  Muhammad Tausif ul Hassan (ID - 2159)  Muhammad Ali (ID - 1566)   \n",
       "1765               Ans Bin Asif (ID - 2295)  Muhammad Ali (ID - 1566)   \n",
       "\n",
       "      Applied Job ID         Applied At                      Pseudo  \\\n",
       "1763         1810935  26/Jul/2024 16:05  Naveed H Zaidi - TechXpark   \n",
       "1764         1810942  26/Jul/2024 16:07  Naveed H Zaidi - TechXpark   \n",
       "1765         1810949  26/Jul/2024 16:11  Naveed H Zaidi - TechXpark   \n",
       "\n",
       "              Vertical  \n",
       "1763  Ned Hassan - Dev  \n",
       "1764  Ned Hassan - Dev  \n",
       "1765  Ned Hassan - Dev  "
      ]
     },
     "metadata": {},
     "output_type": "display_data"
    },
    {
     "data": {
      "text/plain": [
       "(1766, 18)"
      ]
     },
     "metadata": {},
     "output_type": "display_data"
    }
   ],
   "source": [
    "df = pd.read_csv('./applied_jobs-2024-07-27 09_26_39 -0700.csv', low_memory=False)\n",
    "# df.drop(columns=[\"Unnamed: 16\"], inplace=True)\n",
    "# df.dropna(inplace=True)\n",
    "display(df.tail(3))\n",
    "display(df.shape)"
   ]
  },
  {
   "cell_type": "code",
   "execution_count": 19,
   "metadata": {},
   "outputs": [
    {
     "name": "stdout",
     "output_type": "stream",
     "text": [
      "Zunaira Afzal (ID - 1579)               => 212\n",
      "Irtaza Afzal (ID - 2055)                => 268\n",
      "Ahsan Mehmood (ID - 2016)               => 128\n",
      "Muhammad Ali (ID - 1566)                => 235\n",
      "Ali Husnain (ID - 1496)                 => 72\n",
      "Muhammad Hamza (ID - 1850)              => 264\n",
      "Kanwar Zahid Sarfraz (ID - 2064)        => 215\n",
      "Muhammad Kaleem Azhar (ID - 2181)       => 372\n"
     ]
    }
   ],
   "source": [
    "# Applying Counts\n",
    "appliers = df['Job Applied By'].unique()\n",
    "for applier in appliers:\n",
    "    print(f\"{applier}\".ljust(40) + f\"=> {df[df['Job Applied By']==applier]['Job ID'].count()}\")"
   ]
  },
  {
   "cell_type": "code",
   "execution_count": 20,
   "metadata": {},
   "outputs": [
    {
     "name": "stderr",
     "output_type": "stream",
     "text": [
      "C:\\Users\\Dev\\AppData\\Local\\Temp\\ipykernel_14036\\2524892336.py:11: SettingWithCopyWarning:\n",
      "\n",
      "\n",
      "A value is trying to be set on a copy of a slice from a DataFrame\n",
      "\n",
      "See the caveats in the documentation: https://pandas.pydata.org/pandas-docs/stable/user_guide/indexing.html#returning-a-view-versus-a-copy\n",
      "\n",
      "C:\\Users\\Dev\\AppData\\Local\\Temp\\ipykernel_14036\\2524892336.py:12: SettingWithCopyWarning:\n",
      "\n",
      "\n",
      "A value is trying to be set on a copy of a slice from a DataFrame.\n",
      "Try using .loc[row_indexer,col_indexer] = value instead\n",
      "\n",
      "See the caveats in the documentation: https://pandas.pydata.org/pandas-docs/stable/user_guide/indexing.html#returning-a-view-versus-a-copy\n",
      "\n"
     ]
    },
    {
     "data": {
      "text/html": [
       "<div>\n",
       "<style scoped>\n",
       "    .dataframe tbody tr th:only-of-type {\n",
       "        vertical-align: middle;\n",
       "    }\n",
       "\n",
       "    .dataframe tbody tr th {\n",
       "        vertical-align: top;\n",
       "    }\n",
       "\n",
       "    .dataframe thead th {\n",
       "        text-align: right;\n",
       "    }\n",
       "</style>\n",
       "<table border=\"1\" class=\"dataframe\">\n",
       "  <thead>\n",
       "    <tr style=\"text-align: right;\">\n",
       "      <th>Applied At Date</th>\n",
       "      <th>2024-07-26</th>\n",
       "    </tr>\n",
       "    <tr>\n",
       "      <th>Job Applied By</th>\n",
       "      <th></th>\n",
       "    </tr>\n",
       "  </thead>\n",
       "  <tbody>\n",
       "    <tr>\n",
       "      <th>Ahsan Mehmood (ID - 2016)</th>\n",
       "      <td>0 days 01:52:00</td>\n",
       "    </tr>\n",
       "    <tr>\n",
       "      <th>Ali Husnain (ID - 1496)</th>\n",
       "      <td>0 days 01:13:00</td>\n",
       "    </tr>\n",
       "    <tr>\n",
       "      <th>Irtaza Afzal (ID - 2055)</th>\n",
       "      <td>0 days 01:25:00</td>\n",
       "    </tr>\n",
       "    <tr>\n",
       "      <th>Kanwar Zahid Sarfraz (ID - 2064)</th>\n",
       "      <td>0 days 00:09:00</td>\n",
       "    </tr>\n",
       "    <tr>\n",
       "      <th>Muhammad Ali (ID - 1566)</th>\n",
       "      <td>0 days 01:41:00</td>\n",
       "    </tr>\n",
       "    <tr>\n",
       "      <th>Muhammad Hamza (ID - 1850)</th>\n",
       "      <td>0 days 01:28:00</td>\n",
       "    </tr>\n",
       "    <tr>\n",
       "      <th>Muhammad Kaleem Azhar (ID - 2181)</th>\n",
       "      <td>0 days 01:24:00</td>\n",
       "    </tr>\n",
       "    <tr>\n",
       "      <th>Zunaira Afzal (ID - 1579)</th>\n",
       "      <td>0 days 00:55:00</td>\n",
       "    </tr>\n",
       "  </tbody>\n",
       "</table>\n",
       "</div>"
      ],
      "text/plain": [
       "Applied At Date                        2024-07-26\n",
       "Job Applied By                                   \n",
       "Ahsan Mehmood (ID - 2016)         0 days 01:52:00\n",
       "Ali Husnain (ID - 1496)           0 days 01:13:00\n",
       "Irtaza Afzal (ID - 2055)          0 days 01:25:00\n",
       "Kanwar Zahid Sarfraz (ID - 2064)  0 days 00:09:00\n",
       "Muhammad Ali (ID - 1566)          0 days 01:41:00\n",
       "Muhammad Hamza (ID - 1850)        0 days 01:28:00\n",
       "Muhammad Kaleem Azhar (ID - 2181) 0 days 01:24:00\n",
       "Zunaira Afzal (ID - 1579)         0 days 00:55:00"
      ]
     },
     "execution_count": 20,
     "metadata": {},
     "output_type": "execute_result"
    }
   ],
   "source": [
    "# Effective Working in Hours\n",
    "df['Applied At'] = pd.to_datetime(df['Applied At'])\n",
    "df['Applied At Date'] = df['Applied At'].dt.strftime('%Y-%m-%d')\n",
    "\n",
    "# Define start and end time for filtering\n",
    "start_time = '2024-07-26 05:00'\n",
    "end_time = '2024-07-26 15:00'\n",
    "effective_min_diff = 10\n",
    "\n",
    "df_filtered = df[(df['Applied At'] >= start_time) & (df['Applied At'] <= end_time)]\n",
    "df_filtered.sort_values(by=['Job Applied By', 'Applied At'], inplace=True)\n",
    "df_filtered['Time Difference'] = df_filtered.groupby('Job Applied By')['Applied At'].diff()\n",
    "# display(df_filtered[df_filtered['Job Applied By']=='Ahsan Mehmood (ID - 2016)'].sort_values(by=\"Applied At\"))\n",
    "\n",
    "effective_times = df_filtered[df_filtered['Time Difference'] <= pd.Timedelta(minutes=effective_min_diff)].groupby(['Applied At Date', 'Job Applied By'])['Time Difference'].sum()\n",
    "effective_times_df = effective_times.reset_index().pivot(index='Job Applied By', columns='Applied At Date', values='Time Difference')\n",
    "effective_times_df"
   ]
  },
  {
   "cell_type": "code",
   "execution_count": 21,
   "metadata": {},
   "outputs": [
    {
     "data": {
      "text/html": [
       "<div>\n",
       "<style scoped>\n",
       "    .dataframe tbody tr th:only-of-type {\n",
       "        vertical-align: middle;\n",
       "    }\n",
       "\n",
       "    .dataframe tbody tr th {\n",
       "        vertical-align: top;\n",
       "    }\n",
       "\n",
       "    .dataframe thead th {\n",
       "        text-align: right;\n",
       "    }\n",
       "</style>\n",
       "<table border=\"1\" class=\"dataframe\">\n",
       "  <thead>\n",
       "    <tr style=\"text-align: right;\">\n",
       "      <th></th>\n",
       "      <th>Job ID</th>\n",
       "      <th>Job Created At</th>\n",
       "      <th>Job Title</th>\n",
       "      <th>Job Location</th>\n",
       "      <th>Job Region</th>\n",
       "      <th>Posted At</th>\n",
       "      <th>Company ID</th>\n",
       "      <th>Job Role</th>\n",
       "      <th>Job Source</th>\n",
       "      <th>Primary Tech Stack</th>\n",
       "      <th>Secondary Tech Stacks</th>\n",
       "      <th>Job Types</th>\n",
       "      <th>Job Created By</th>\n",
       "      <th>Job Applied By</th>\n",
       "      <th>Applied Job ID</th>\n",
       "      <th>Applied At</th>\n",
       "      <th>Pseudo</th>\n",
       "      <th>Vertical</th>\n",
       "      <th>Applied At Date</th>\n",
       "      <th>Time Difference</th>\n",
       "    </tr>\n",
       "  </thead>\n",
       "  <tbody>\n",
       "  </tbody>\n",
       "</table>\n",
       "</div>"
      ],
      "text/plain": [
       "Empty DataFrame\n",
       "Columns: [Job ID, Job Created At, Job Title, Job Location, Job Region, Posted At, Company ID, Job Role, Job Source, Primary Tech Stack, Secondary Tech Stacks, Job Types, Job Created By, Job Applied By, Applied Job ID, Applied At, Pseudo, Vertical, Applied At Date, Time Difference]\n",
       "Index: []"
      ]
     },
     "execution_count": 21,
     "metadata": {},
     "output_type": "execute_result"
    }
   ],
   "source": [
    "\n",
    "def time_difference_adjustment(x):\n",
    "    if pd.isna(x):\n",
    "        return pd.NaT\n",
    "    elif x <= pd.Timedelta(minutes=effective_min_diff):\n",
    "        return x\n",
    "    else:\n",
    "        pd.Timedelta(minutes=4)\n",
    "df['Applied At'] = pd.to_datetime(df['Applied At'])\n",
    "df['Applied At Date'] = df['Applied At'].dt.strftime('%Y-%m-%d')\n",
    "min_df_date = pd.to_datetime(df['Applied At Date'].min())\n",
    "max_df_date = pd.to_datetime(df['Applied At Date'].max())\n",
    "# Date and time picker widgets\n",
    "start_date = st.sidebar.date_input(\"Start Date\", value=min_df_date)\n",
    "start_time = st.sidebar.time_input(\"Start Time\", value=datetime.strptime(\"05:00\", \"%H:%M\").time())\n",
    "end_date = st.sidebar.date_input(\"End Date\", value=max_df_date)\n",
    "end_time = st.sidebar.time_input(\"End Time\", value=datetime.strptime(\"15:00\", \"%H:%M\").time())\n",
    "\n",
    "# Combine date and time into datetime objects\n",
    "start_datetime = datetime.combine(start_date, start_time)\n",
    "end_datetime = datetime.combine(end_date, end_time)\n",
    "start_time = pd.to_datetime(start_datetime)\n",
    "end_time = pd.to_datetime(end_datetime)\n",
    "\n",
    "applier_options = df['Job Applied By'].unique().tolist()\n",
    "selected_applier = st.multiselect('Select an Applier:', applier_options)\n",
    "st.header('Effective Working in Hours By Applier')\n",
    "\n",
    "matches = df['Job Applied By'].isin(selected_applier)\n",
    "df_filtered = df[matches]\n",
    "\n",
    "df_filtered = df_filtered[(df_filtered['Applied At'] >= start_time) & (df_filtered['Applied At'] <= end_time)]\n",
    "df_filtered.sort_values(by=['Job Applied By', 'Applied At'], inplace=True)\n",
    "# TODO: Make average applying adjustment feature. \n",
    "df_filtered['Time Difference'] = df_filtered.groupby('Job Applied By')['Applied At'].diff().apply(time_difference_adjustment)\n",
    "df_filtered"
   ]
  },
  {
   "cell_type": "code",
   "execution_count": 22,
   "metadata": {},
   "outputs": [
    {
     "data": {
      "text/html": [
       "<div>\n",
       "<style scoped>\n",
       "    .dataframe tbody tr th:only-of-type {\n",
       "        vertical-align: middle;\n",
       "    }\n",
       "\n",
       "    .dataframe tbody tr th {\n",
       "        vertical-align: top;\n",
       "    }\n",
       "\n",
       "    .dataframe thead th {\n",
       "        text-align: right;\n",
       "    }\n",
       "</style>\n",
       "<table border=\"1\" class=\"dataframe\">\n",
       "  <thead>\n",
       "    <tr style=\"text-align: right;\">\n",
       "      <th>Applied At Date</th>\n",
       "      <th>2024-07-22</th>\n",
       "      <th>2024-07-23</th>\n",
       "      <th>2024-07-24</th>\n",
       "      <th>2024-07-25</th>\n",
       "      <th>2024-07-26</th>\n",
       "    </tr>\n",
       "    <tr>\n",
       "      <th>Job Applied By</th>\n",
       "      <th></th>\n",
       "      <th></th>\n",
       "      <th></th>\n",
       "      <th></th>\n",
       "      <th></th>\n",
       "    </tr>\n",
       "  </thead>\n",
       "  <tbody>\n",
       "    <tr>\n",
       "      <th>Ahsan Mehmood (ID - 2016)</th>\n",
       "      <td>51.0</td>\n",
       "      <td>1.0</td>\n",
       "      <td>12.0</td>\n",
       "      <td>20.0</td>\n",
       "      <td>44.0</td>\n",
       "    </tr>\n",
       "    <tr>\n",
       "      <th>Ali Husnain (ID - 1496)</th>\n",
       "      <td>21.0</td>\n",
       "      <td>15.0</td>\n",
       "      <td>14.0</td>\n",
       "      <td>NaN</td>\n",
       "      <td>22.0</td>\n",
       "    </tr>\n",
       "    <tr>\n",
       "      <th>Irtaza Afzal (ID - 2055)</th>\n",
       "      <td>72.0</td>\n",
       "      <td>68.0</td>\n",
       "      <td>61.0</td>\n",
       "      <td>NaN</td>\n",
       "      <td>67.0</td>\n",
       "    </tr>\n",
       "    <tr>\n",
       "      <th>Kanwar Zahid Sarfraz (ID - 2064)</th>\n",
       "      <td>13.0</td>\n",
       "      <td>70.0</td>\n",
       "      <td>70.0</td>\n",
       "      <td>58.0</td>\n",
       "      <td>4.0</td>\n",
       "    </tr>\n",
       "    <tr>\n",
       "      <th>Muhammad Ali (ID - 1566)</th>\n",
       "      <td>60.0</td>\n",
       "      <td>60.0</td>\n",
       "      <td>50.0</td>\n",
       "      <td>15.0</td>\n",
       "      <td>50.0</td>\n",
       "    </tr>\n",
       "    <tr>\n",
       "      <th>Muhammad Hamza (ID - 1850)</th>\n",
       "      <td>68.0</td>\n",
       "      <td>61.0</td>\n",
       "      <td>61.0</td>\n",
       "      <td>33.0</td>\n",
       "      <td>41.0</td>\n",
       "    </tr>\n",
       "    <tr>\n",
       "      <th>Muhammad Kaleem Azhar (ID - 2181)</th>\n",
       "      <td>110.0</td>\n",
       "      <td>30.0</td>\n",
       "      <td>121.0</td>\n",
       "      <td>NaN</td>\n",
       "      <td>111.0</td>\n",
       "    </tr>\n",
       "    <tr>\n",
       "      <th>Zunaira Afzal (ID - 1579)</th>\n",
       "      <td>61.0</td>\n",
       "      <td>59.0</td>\n",
       "      <td>7.0</td>\n",
       "      <td>35.0</td>\n",
       "      <td>50.0</td>\n",
       "    </tr>\n",
       "  </tbody>\n",
       "</table>\n",
       "</div>"
      ],
      "text/plain": [
       "Applied At Date                    2024-07-22  2024-07-23  2024-07-24  \\\n",
       "Job Applied By                                                          \n",
       "Ahsan Mehmood (ID - 2016)                51.0         1.0        12.0   \n",
       "Ali Husnain (ID - 1496)                  21.0        15.0        14.0   \n",
       "Irtaza Afzal (ID - 2055)                 72.0        68.0        61.0   \n",
       "Kanwar Zahid Sarfraz (ID - 2064)         13.0        70.0        70.0   \n",
       "Muhammad Ali (ID - 1566)                 60.0        60.0        50.0   \n",
       "Muhammad Hamza (ID - 1850)               68.0        61.0        61.0   \n",
       "Muhammad Kaleem Azhar (ID - 2181)       110.0        30.0       121.0   \n",
       "Zunaira Afzal (ID - 1579)                61.0        59.0         7.0   \n",
       "\n",
       "Applied At Date                    2024-07-25  2024-07-26  \n",
       "Job Applied By                                             \n",
       "Ahsan Mehmood (ID - 2016)                20.0        44.0  \n",
       "Ali Husnain (ID - 1496)                   NaN        22.0  \n",
       "Irtaza Afzal (ID - 2055)                  NaN        67.0  \n",
       "Kanwar Zahid Sarfraz (ID - 2064)         58.0         4.0  \n",
       "Muhammad Ali (ID - 1566)                 15.0        50.0  \n",
       "Muhammad Hamza (ID - 1850)               33.0        41.0  \n",
       "Muhammad Kaleem Azhar (ID - 2181)         NaN       111.0  \n",
       "Zunaira Afzal (ID - 1579)                35.0        50.0  "
      ]
     },
     "execution_count": 22,
     "metadata": {},
     "output_type": "execute_result"
    }
   ],
   "source": [
    "appliers = df['Job Applied By'].unique()\n",
    "data_filtered = df.groupby(['Applied At Date', 'Job Applied By']).count()\n",
    "data_filtered = data_filtered.reset_index().pivot(index='Job Applied By', columns=\"Applied At Date\", values='Job ID')\n",
    "data_filtered"
   ]
  },
  {
   "cell_type": "code",
   "execution_count": 23,
   "metadata": {},
   "outputs": [
    {
     "data": {
      "text/plain": [
       "Job Applied By\n",
       "Ahsan Mehmood (ID - 2016)             31\n",
       "Ali Husnain (ID - 1496)               71\n",
       "Irtaza Afzal (ID - 2055)              53\n",
       "Kanwar Zahid Sarfraz (ID - 2064)      78\n",
       "Muhammad Ali (ID - 1566)              33\n",
       "Muhammad Hamza (ID - 1850)            55\n",
       "Muhammad Kaleem Azhar (ID - 2181)    103\n",
       "Zunaira Afzal (ID - 1579)              7\n",
       "Name: Job ID, dtype: int64"
      ]
     },
     "execution_count": 23,
     "metadata": {},
     "output_type": "execute_result"
    }
   ],
   "source": [
    "# Hunt to Apply Ratio\n",
    "df_filtered = df[df['Job Applied By']==df['Job Created By']].groupby('Job Applied By')['Job ID'].count()\n",
    "df_filtered"
   ]
  },
  {
   "cell_type": "code",
   "execution_count": 24,
   "metadata": {},
   "outputs": [
    {
     "name": "stdout",
     "output_type": "stream",
     "text": [
      "Ahsan Mehmood (ID - 2016): Sr. Frontend Engineer (Design System) |Lead Software Engineer, |Node.js Developer, |WordPress/Wix/SquareSpace Web Developer |Sr Software Engineer |Lead React Engineers |Sr Front End Software Engineer - US Remote |Senior Software Engineer, |Staff Engineer |Senior Full Stack Engineer, |Full-Stack Engineer |Senior Back-end Node JS Developer with AWS (Remote) |AWS AppSync / TypeScript Developer Lead |Crypto Senior Full Stack Developer (Jakarta - Remote) |Full Stack Developer |FULL STACK SOFTWARE DEVELOPER |Staff Backend Developer |Full Stack Software Engineer |Lead Ruby-on-Rails Engineer |Software Engineerr |SENIOR SOFTWARE ENGINEERR |Full Stack Engineer |Middle Fullstack Developer (Node.js/React.js) |Senior Software Engineer |Software Engineer - Growth |Senior Fullstack Engineer, Core |Senior Software Engineer, Front End |Senior Frontend Developer |Senior Software Engineer |Full Stack Software Engineer |Software Engineer II (Full Stack) |Software Engineer - Full Stack Ruby |Lead Full Stack Enginee |Backend Developer |Senior Software Engineer |Sr. Full-Stack Developer (React.js, Next.js, MySQL and AWS) |ReactJS Developer |Principal Software Engineer |Software Engineer Principal REMOTE |Senior Frontend Engineer |Frontend Engineer |Sr. Fullstack Engineer (React/Node) |Software Engineer II |Senior Software Engineer |Senior Software Engineer, Generalist |Software Enginee |full stack developer -remote |full stack developer |manager i, software engineering |node js full stack (senior) |Back End Developer |Lead Engineer, Client Engineering Team |Principal Data Scientis |Machine Learning Data Scientist - Research Engineer / Geospatial Target Detectio |Data Scientis |Data Scientis |Machine Learning Enginee |Data Scientist - Synthetic Population |Staff Data Scientist, Scaled Enforcemen |Arity - Expert Data Scientist - IOT Deep Learning - Arit |Health Data Scientis |Principal Research Data Scientis |Senior Principal Data Scientist- Telematic |Principal Software Engineer |UI/UX |Data Scientis |Data Scientist, Analytics Service |Senior Data Scientis |Lead Data Scientist (Web3 & Blockchain |Machine Learning Engineer [28514 |Data Scientist - AI & Machine Learnin |ML Research Enginee |Data Scientist- Remot |Senior Data Scientist, Analytics Hub Tea |Data Scientis |Machine Learning Enginee |Sr. Machine Learning Enginee |Machine Learning Enginee |Data Scientis |Senior Data Enginee |backend javascript developer |Lead Software Enginee |Lead Software Engineer (Fullstack |Software Engineer III, Healt |ML/AI Engineer |Member of Technical Staff, Engineering Acceleration Program |Software Engineer |AI Engineer |Lead ML Engineer |Lead Data Engineer |Data Scientist |AWS Migration Services Architect II |GenAI Application Lead |Software Engineer, LLM Inference |Senior Software Engineer II, AI Research |Software Engineer |Sr. Machine Learning Operations Engineer |Senior Data Scientist |Senior Data Scientist |Lead Data Scientist |Senior Software Engineer, ML |AI Solution Software Engineer |Software Developer (US - Contract) |Software Engineer III, Machine Learning |Senior Data Scientist Machine Learning Engineer (remote) |Machine Learning Engineer (Platform/Solutions) |Director - Data Science & Experimentation |Senior Machine Learning Engineer / GenAI |Senior ML Search and ML Platform Lead |Machine Learning Engineer (Remote) |Founding Machine Learning Engineer |Growth Data Scientist |Staff Software Development Engineer L5 |Backend Developer |Senior Software Engineer remote |Technical Consultant |Senior Full Stack Engineer |Principal Software Engineer |Principal Software Engineer |SENIOR .NET DEVELOPER – DIGITAL IDENTITY FOCUS |Full Stack Software Engineer |Sr. Full-Stack .NET Developer |Senior Full-Stack .NET Developer - 176242 |100% remote .NET contractor |Lead Software Developer |Expert Software Engineer (Database) - Remote |senior contributor success fullstack engineer |software development engineer ii\n",
      "Ali Husnain (ID - 1496): UX Manager, Catalo |Senior UI/UX Designe |UI/UX Designe |UX / UI Designer |UX/UI Designer (remote open roster contract opportunity) |UX/UI Designer - Catalyst |UX/UI Designer – Freelance |UX/UI Designer |Graphics / UX / UI Designer - Knowledge Network |SaaS UX/UI Designer |SaaS UX/UI Designer |UX/UI Designer |Senior User Experience Designe |Senior User Experience Designe |User Experience Designe |UI/UX Enginee |UI/UX Web Designe |UX/UI Designe |Product & UX Designe |UX Designe |Junior UX Designer for Cyber Defense Platfor |Senior Product Designe |Product Designe |Senior Product/UX Designe |Senior Product Designe |Senior Product Designer, Growt |Sr. Principal, Product Designer |Product Design Lead |Product & UX Designer - Creatur |Product & UX Designer - Creatur |UX Researche |UX Researche |UX Researche |Lead UX Designe |UX Content Designe |Product & UX Designer - Creatur |Staff Designer (Remote |Lead UI/UX Designer (Europe - MENA |Lead UI/UX Designer (Europe - MENA |UI/UX Consultant (Contract |Product Designe |UI Architect |UI/UX Contract Consultan |Senior UX/UI Designer |UI/UX Designe |UX/UI Designe |UX/UI Designe |UI/UX Designe |UI/UX Designe |UI/UX Designer- MI |Product Designe |Graphic Designe |Contract Graphic Designe |Graphic Designe |Senior Product Designe |Senior Product Designe |UI/UX Developer |UI/UX Designer Lead. |UI Designer Contract |U.S. UI/UX Designer, Zoic Lab |UI/UX Senior Product Manager |Remote UI Developer |Mastercard: UI Developer |Senior UI/UX Designe |UI/UX Designer (Moldova |UX/UI Designer (Developer |UX Designer - Cloud User Experienc |UX Researcher |Graphic Designer (part-time contract through December 2024 |Product Designe |Product Designe |SaaS UI/UX Designer for Loyalty Ap\n",
      "Irtaza Afzal (ID - 2055): senior front-end node js developer with aws - remote | wfh |frontend lead react software engineer |senior react.js full stack engineer |senior full stack software engineer - remote |senior software engineer (full-stack: javascript + react + drupal) |senior platform engineer (remote) |senior/staff/principal software engineer (backend) - apac/latam at medme health (w21) |software engineer (remote) |software engineer (remote) |senior frontend developer verified |full stack developer |java developer python |remote web developer |ui developer |senior software engineer |senior software engineer - remote |web developer |front-end developer |Full Stack Develop |full stack javascript developer (remote) |Senior Product Designe |Senior Frontend Developer |Senior Software Engineer, Front End |Senior Digital Designer |Senior Fullstack Engineer, Core |Global Creative, Graphic Designer |Senior User Experience Researcher |Software Engineer - Growth |UX Designer |Product Designe |Software Engineer |Senior Full Stack Engineer |Software Engineer |Middle Fullstack Developer (Node.js/React.js) |Full Stack Software Engineer |Software Engineer III |Senior Software Engineer |full stack developer (ruby/react) |ui/ux engineer |Senior Software Engineer |Full Stack Engineer |Senior Product Designe |Senior Software Engineer |Senior Full-Stack Engineer |Senior Fullstack Engineer Javascript |Backend Engineer (Remote) |senior software engineer - remote us |Senior Software Engineer |Senior fullstack engineer |Software Develope |UX Designe |UX Lead (6 Month Contract) |senior product designer (saas platform) |ux/ui designer (senior) |angular developer(w2) |sr. integration developer - remote |api developer nodejs |Senior Software Enginee |Sr. Full Stack Enginee |software engineer |Software Enginee |Senior Software Engineer, Generalist |Senior Software Engineer |Sr. Fullstack Engineer (React/Node) |Frontend Engineer |Senior Frontend Engineer |Software Engineer Principal REMOTE |Principal Software Engineer |ReactJS Developer |Sr. Full-Stack Developer (React.js, Next.js, MySQL and AWS) |Software Engineer - Full Stack Ruby |Software Engineer II (Full Stack) |Full Stack Develope |software engineer (100% remote) |sr software engineer |node developer |node developer |web developer - react |senior software engineer |front end engineer |software developer |senior software engineer |Full Stack Developer |senior software engineer (adtech) |web developer |Senior Frontend Develope |Full Stack Enginee |senior software engineer |senior software engineer |software engineer ii, backend engineering |software engineer - web/mobile |software engineer (remote) |senior front end engineer |software engineer (backend) |senior web developer |software developer |react full stack developer |full stack developer -remote |full stack developer |software engineer |software engineer - react & nodejs |senior software engineer- reactjs |full stack web developer - senior level remote role |senior backend engineer - engagement |Senior Full Stack Software Engineer - Poe Core Product (Remote) |Instructional Designer |Senior UX Designe |Sr. Graphic Designer |Senior UI Designer |Senior Software Engineer (NodeJS) |Senior Software Engineer (Frontend Focused) |senior software engineer (full stack) |Senior Software Enginee |site reliability engineer |Software Engineer |Senior Systems Software Engineer |Lead Full Stack Developer - WordPress (Remote UK only) |Software Engineering Manager |Senior Full-Stack Engineer |Full Stack Software Enginee |Senior Software Engineer - Back-End |Senior Software Enginee |Senior Software Engineer |Senior Full Stack Developer Smart Working |sr full stack ruby on rails developer |Senior Software Engineer (Full-Stack |front-end engineer |Backend Engineer - U |Full Stack Enginee |Software Engineer Level II - |azure full stack developer |software engineer |Middle Full Stack Developer (Vue.JS, Node.JS) |Full-stack Develope |Senior Software Engineer, Full Stack (Ruby/Rails |Software Development Engineer II - Backend (Remote |Senior Full-Stack Engineer (US Remote Only) |Senior Full Stack Developer |full stack api developer |ai solutions software engineer |systems engineer ii - gis |full stack engineer - generative ai & llm applications (25378) |full-stack developer |full stack software engineer |software developer |junior software engineer (remote) |senior software engineer |react/node js developer |sr. software engineer |frontend developer |Senior Full Stack Developer |Infrastructure Engineer I |Web Software Develope |Full-Stack Software Engineer, Growth |embedded engineer |Lead Software Engineer |User Experience (UX) Designer |User Experience (UX) Designer |remote software engineer ii |Senior Product Designe |Senior Product Designe |Senior Developer (JS/TS Focused) |angular engineer |software engineer, site reliability engineering |Python Develope |Team Lead (Full Stack Development) - Fully Remote U |Senior Backend Engineer |Full Stack Software Enginee |Senior Software Engineer (UI/UX |Junior Software Development Enginee |Cloud Enginee |Software Engineer (Remote |Frontend End - Develope |Product Support Enginee |Staff Software Engineer - Core System |Sr. Fullstack Engineer |Engineering Manager - Search and Discover |Staff/Senior Software Engineers, Full Stack (TypeScript |Senior Software Engineer |Staff Software Enginee |Senior Develope |Product Designer - UI/U |UX Designer / Developer for Enterprise IT |UI/UX Designe |software engineer |senior software engineer - motion planning dev tooling (c++/qt) |senior site reliability engineer |Sr Software Engineer - Lead |Sr. Software Engineer |Sr. Software Engineer |Senior Software Engineer (Product Growth) |Principal Software Engineer |Fullstack Software Enginee |Software Developer I |Senior Front-End Engineer |Full Stack NODEJS Develope |Angular Develope |Web Developer |Python Develope |Software Enginee |Senior Backend Engineer |Principal Software Engineer |Ruby Full-Stack Engineer |Senior Backend Engineer - Node.JS (m/f/d) |Software Engineer |Python Developer |Sr. Front-End Engineer |python/sql developer - remote |full stack sr. software developer |web developer i |full stack react software engineer |Software Enginee |Full Stack Develope |Senior Full Stack Developer |Senior Backend Developer |React and Node JS Developer |Full Stack Software Engineer |remote software engineer |Full Stack Develope |specialist software engineer |python full stack developer -remote opportunity -full time |senior web developer | ecommerce |site reliability engineer |software engineer |backend engineer - supernova |iso new best friend and lead programmer up for a wild and crazy startup ride |senior java developer with terraform |python full stack developer -remote opportunity -full time |sr. application developer (remote) |ecommerce director - motorsports (remote, usa) |senior software developer - remote (1882) |unidata developer at secaucus, nj - remote |remote senior application developer |backend javascript developer |lead software engineer - product led growth |frontend developer |front-end web developer |frontend developer |software engineer |software engineer ii, backend |frontend engineer |web developer |integration developer |w2 role-devops engineer with strong openshift experience (100% remote)-need 10+ yrs of experience |software engineer |Software Develope |Lead Software Engineer (Fullstack |Software Engineer III, Healt |Senior Enginee |Product Designer |Senior Systems Designer |Senior Product Designer |Senior Product Designer |Backend Developer |Sr. Software Engineer, Marketplace |django/javascript developer |data engineering lead (django/ pandas) |product specialist - ms dynamics 365 developer |Software Engineer - Backend (E5) |senior java developer |Full Stack Engineer |Full Stack Develope |Sr. Software Full Stack Engineer (L3) - MERN Stack |integration engineer (central zone) |sr. software/ui engineer - cloud platform experience |full-stack software engineer |Software Enginee |Senior Front End Engineer - Remot\n",
      "Kanwar Zahid Sarfraz (ID - 2064): Senior Full Stack Engineer |Software Engineer |Software Engineer |Senior Software Engineer |Senior Software Engineer |Senior Fullstack Engineer Javascript |Lead Software Engineer |Backend Engineer (Remote) |Senior Full-Stack Engineer |Backend Software Engineer |Engineering Support Manager |Software Engineer |Senior Software Enginee |Senior fullstack engineer |UX Lead (6 Month Contract) |UX Designe |UX/UI Designe |UI/UX Web Designe |UI/UX Enginee |UI/UX Enginee |Product Designer - Design System |Senior User Experience Designe |UI/ UX Designer. |UX/UI Designer |SaaS UX/UI Designer |SaaS UX/UI Designer |Graphics / UX / UI Designer - Knowledge Network |UX/UI Designer |UX/UI Designer |Product Designe |UX Designer |Senior User Experience Researcher |UX/UI Designer – Freelance |Global Creative, Graphic Designer |UX/UI Designer - Catalyst |Senior Product Designer, Growt |UX/UI Designer (remote open roster contract opportunity) |Senior Digital Designer |Senior Software Enginee |Sr. Software Enginee |Senior UX/UI Designe |UI/UX Designe |Senior Product Designer, Design System |UI Motion Designer | North America | Europe | Fully Remot |Freelance Graphic Designer |UI/UX Designer |UI/UX Designer |Frontend Designer Developer |Senior Product Designer - Offroad (Remote Considered |UI/UX ServiceNow Developer |Director of Product Design |Lead Product Designer |UI Architect with Angular 11 Version or Plu |Software Engineer Level II - |Full Stack Enginee |Backend Engineer - U |Junior Developer-Data Scientist |Senior Data Scientis |Machine Learning Enginee |Machine Learning Engineer. |Senior Backend Engineer |Senior Software Engineer (Product |Full-Stack Developer (Remote |Data Scientist |Data Scienti |Data Scientis |Senior Data Scientis |Data Scientis |Data Scientist |Data Scientist (US Remote) |Data Scientist |Senior Data Scientis |Senior Data Scientis |Data Scientist |Senior Data Scientis |Data Scientist - Remot |Senior Data Scientist |Data Scientis |Data Scientis |[Full Remote] Data Scientist |Data Scientist |Data Scientist Especialista |Data Scientist Lead |data scientists |lead data scientist |Full-Stack Software Engineer, Growth |Frontend Develope |Senior Software Engineer |Senior Software Enginee |Senior Software Engineer - Back-End |Senior Full-Stack Engineer |Software Engineer |Senior Software Engineer (Full-Stack |Senior Software Engineer (Frontend Focused) |Senior Full Stack Enginee |Senior Full-Stack JS Developer |Lead Full Stack Developer (Python + JavaScript) |Infrastructure Engineer I |Sr. Software Engineer (Ruby on Rails |Remote Full Stack Develope |Team Lead (Full Stack Development) - Fully Remote U |Senior Developer (JS/TS Focused) |Senior Full Stack Developer - Machine Learning/AI (m/w/d) - Ramboll Tech |Senior Full Stack Software Engineer - Poe Core Product (Remote) |Frontend Developer |Desenvolvedor(a) Web Senior Javascrip |Senior Software Enginee |Full Stack Developer Intern |Senior JavaScript QA Enginee |Full Stack Developer - Founding Team Member |Senior Full Stack Developer |Full Stack Enginee |Lead Full Stack Developer - WordPress (Remote UK only) |.NET Software Develope |.NET Software Engineer - Remote |Backend .NET Developer |Early Career C#/ C. Net /Java Developer |Fullstack Software Enginee |Software Engineer, Full-Stack (Remote |Junior .NET Full Stack Develope |Junior .NET Full Stack Develope |Sr. Software Enginee |P21 Developer - C# / .Net Developer |Software Engineer - .NET |Software Enginee |Software Developer I |Software Engineer |Software Developer |Software Enginee |Web Developer |Senior Software Engineer, Capm |Senior Frontend Software Engineer, LinkSquare |Senior Full Stack Developer |Senior Fullstack Typescript Developer, Immunef |Senior Software Engineer, Euclid Powe |Senior Software Engineer, Click Therapeutic |Full Stack NODEJS Develope |Sr. Software Engineer, Frontend, |Senior Software Engineer (Product Growth) |Sr. Software Engineer |Sr Software Engineer - Lead |Senior Software Enginee |GOFASTI |Senior Ruby Developer |Front-end Software Engineer III |Middle Full Stack Developer (Vue.JS, Node.JS) |Full Stack Developer - Remote - Poland |Senior Full Stack Developer (Front End) |C#/.Net Developer |Software Engineer (Remote |Full Stack Developer - Defender |Full-Stack C# Developer (Remote) |Software Engineer | Fronten |C#.NET Develop |Full Stack Developer |Junior Full Stack .NET Developer |.NET Software Engineer |.NET job |Software Engineer [.NET] |.NET Software Enginee |Senior Software Engineer, Securefram |Senior Javascript Full-Stack Engineer, Filevin |Senior Full Stack Engineer, Seven Starlin |Senior Front-End Engineer, Timescal |Full-Stack Engineer, Stytc |Sr. Software Engineer |Senior Software Engineer, Crib |Senior Frontend Develope |Full Stack Develope |Frontend Develope |Full Stack Develope |Full Stack Develope |Senior Software Engineer ( 6 months fixed term contract) |Senior Software Enginee |Software Engineer III |Software Engineer, EVM Node |.Net Developer |.NET Developer |Developer |Experienced Software Develope |Senior Enginee |Developer II |.NET Develope |Remote Opportunity: .Net Developer |Remote .NET Developer |Software Engineer (.Net) |Software Developer - Full Stack |.NET Desktop Develope |Junior .NET Full Stack Develope |Full Stack Enginee |Software Develope |Software Develope |Senior .NET Software Engineer |Senior .Net Full Stack Developer |Senior . NET Software Engineer |.NET Developer (AWS |Senior .Net Developer |Software Enginee |Software Enginee |Full Stack Developer |Senior Ruby on Rails Engineer |Senior Front End Engineer - Remot |Software Engineer - Fullstack |Senior Full Stack Developer Smart Working |Full stack developer- Freelance P.IVA- Full Remote |Full-Stack Developer |Full-stack Develope |Senior Full Stack Developer (T3 Stack) |Senior software engineer with over 8 years of experience specializing in Node.js-based frameworks and technologies. Proficient in full stack development, adept at enhancing system reliability, security, and performance. Strong background in team mentorship and code quality improvement. |Senior Software Engineer |Lead Software Enginee |Full Stack Ionic | Teletrabajo |Principal Software Engineer |Software Engineer |Full-Stack Engineer (Remote)\n",
      "Muhammad Ali (ID - 1566): senior react.js full stack engineer |senior frontend developer verified |full stack javascript developer (remote) |Senior Software Engineer |Senior Frontend Developer |Senior Software Engineer, Front End |Senior Fullstack Engineer, Core |Software Engineer - Growth |Software Engineer |Senior Full Stack Engineer |Software Engineer, EVM Node |Senior Software Engineer |Senior Software Engineer |Software Engineer III |Staff Software Engineer |Senior Software Engineer |Backend Software Engineer |Middle Fullstack Developer (Node.js/React.js) |Full Stack Engineer |Senior Software Engineer (NodeJS) |Senior Software Engineer |Senior Full-Stack Engineer |Backend Engineer (Remote) |Lead Software Engineer |Senior Fullstack Engineer Javascript |Senior Javascript Full-Stack Engineer, Filevin |NodeJS/JavaScript Developer |senior software engineer - remote us |Senior Backend Software Engineer, Telepor |Senior Software Engineer (Front End |api developer nodejs |Senior Software Enginee |sr. integration developer - remote |Senior Frontend Engineer |Sr. Fullstack Engineer (React/Node) |Senior Software Engineer |Software Engineer II |node js full stack (senior) |software engineer - react & nodejs |full stack web developer - senior level remote role |Software Enginee |Staff Software Enginee |Full Stack Enginee |Sr. Full-Stack Developer (React.js, Next.js, MySQL and AWS) |Software Engineer - Full Stack Ruby |Senior Software Engineer- Ruby on Rails Developer |Backend Engineers |Sr. Ruby on Rails Developer |Senior Backend Engineer, |Senior Software Engineer |Senior Software Engineer (Front-end) |Senior Software Engineer.. |Full Stack Software Engineer |Senior Software Engineer, Ruby on Rails |Software Engineer, |Frontend Software Engineer |Sr Ruby on Rails Developer |Lead Front-End Software Engineer. |Staff Software Backend Engineer. |Software Engineer, remote |Software Engineer |Senior Full Stack Engineer (Node.JS) FULLY REMOTE |Fullstack Engineer. |Sr Software Developer, Backend |Software Developer, Server-Side Technologies Contract Remote |Sr. Backend Engineer |Full-stack engineer |Senior Fullstack Engineer |Senior. Angular Developer |Engineer, Remote |Senior Full Stack Engineer, |Senior Software Engineer, |Senior Full Stack Software Engineer, Safebase |Senior Backend Engineer, Remote |Senior Front-End Software Engineer, Remote |Senior Software Engineer, Payroll |Frontend Designer-Developers |Senior Full Stack Software Engineer |Sr Software Engineer |Senior Engineer, Applications |Back End Developer / Software Engineer |Senior Full Stack Engineer. |Lead Full Stack Engineer (Founding Team) |SENIOR SOFTWARE ENGINEER – FRONTEND |Front-end Software Developer |Software Engineer (Full Stack) |Full Stack Developer - Freelance |Senior Software Engineer (Ruby On Rails) |Senior Software Engineer II, Search API |Sr Software Engineer |Senior Full Stack Software Engineer - Poe Core Product (Remote) |Senior Full Stack Enginee |senior backend engineer - engagement |software engineer (100% remote) |front end engineer |node developer |Software Engineer II (Full Stack) |ReactJS Developer |Senior Frontend Develope |senior software engineer (adtech) |senior software engineer- reactjs |Software Engineer |Senior Full-Stack Engineer |Ruby on Rails Develope |Senior Software Enginee |Senior Software Engineer - Back-End |Senior Software Engineer |Senior Software Enginee |Senior Software Engineer (Full-Stack |Full Stack Enginee |sr full stack ruby on rails developer |node developer |Senior Full Stack Engineer / $150k+ / 100% Remote / Automotive Telematic |software engineer (remote) |Staff Software Engineer (Web App) |Software Enginee |full stack api developer |Sr. Software Enginee |front-end engineer |software engineer ii, backend engineering |senior contributor success fullstack engineer |senior software engineer |Principal Software Engineer |Software Engineer, Full-Stack (Remote |Senior Developer (JS/TS Focused) |Fullstack Software Enginee |Senior Software Engineer (Product Growth) |Senior Software Engineer, Click Therapeutic |Senior Software Engineer, Euclid Powe |Sr. Software Engineer |Sr Software Engineer - Lead |Senior Software Engineer, Capm |Senior Fullstack Typescript Developer, Immunef |mid frontend developer (remote) |Web Software Develope |senior web developer |Senior Full Stack Software Engineer |Full Stack Engineer, Identity & Onboarding |Lead Ruby on Rails Developer |Sr. Software Engineer (Ruby on Rails) |Mid Level of Senior Full Stack Engineer |Ruby on Rails Developer |Sr Software Engineer (Frontend Focused) |Full Stack Developer |Integrations Engineer |Senior Software Engineer |Full-Stack Engineer (Remote) |Software Development Engineer III |Senior Frontend Engineer |Software Engineer |Senior Software Engineer, Ruby/RailsRuby |Senior Full-Stack Web Developer |Ruby on Rails Developer |Sr. Software Engineer, Frontend |Node.js Developer |Lead Developer - Hyrecar |Senior / Staff Back End Engineer |Front-end Engineer (Remote) |Software Engineer |Sr. Software Engineer |Front End Software Engineer |Senior Web Frontend Engineer Remote |Software Engineer|Frontend |Senior Software Engineer (Remote, Costa Rica) (Costa Rica) |Frontend Engineer |Senior Product Software Engineer,remote |Full Stack Software Engineer |Backend Engineer,remote |Senior Software Engineer |Node JS Developer |Backend-Developer |Senior NodeJS/AWS Developer |Senior Frontend Engineer. |Front End Developer |Experienced Rails Engineer - 6 Month Project |Ruby on Rails Developer |Backend Engineer, |Ruby on Rails Frontend and Backend Wizard |Remote Senior Fullstack Engineer (Ruby/Rails) |Staff Software Engineer |Senior Software Engineer - Frontend |Frontend Software Engineer |Frontend Engineer, GetHarley |Full stack developer |Senior Backend Engineer, |Principal Software Engineer |Software Engineer |Sr. Front-End Engineer |Senior Full Stack Developer |Software Engineer |Full Stack Engineer - UX Platform |Senior Software Engineer, Torc |Software Engineer - Fullstack |Full Stack Software Engineer |Full-Stack Engineer (Remote) |React and Node JS Developer |Software Engineer III, Healt |Full-Stack Engineer, Stytc |Full Stack Developer - Defende |Senior Full Stack Engineer, Seven Starlin |Lead Software Engineer, Beehii |Frontend Developer |Senior Software Engineer (Backend) |Senior Frontend Engineer |Staff Software Engineer, Backend |Full Stack Engineer |Senior Frontend Engineer |Freelance Web Developer |Software Developer Remote |Senior Software Engineer, GameChanger |Senior Software Engineer Remote |Software Developer, |Full Stack Ruby on Rails Software Engineer (Senior - Remote) |Full Stack Engineer, Identity & Onboarding |Senior Software Engineer |Fullstack Engineer |Ruby on Rails-Developer |Senior Software Developer |Senior Full Stack Engineer |Software Engineer |Senior Full Stack Developer |Senior Software Enginee |Senior Software Engineer 1 |Back-End Developer, |Full Stack Engineer |Sr Backend Engineer |Full Stack Software Engineer |Staff / Principal Front End Engineer |Ruby on Rails Developer |Lead Software Engineer (Fullstack) |Frontend Software Engineer (React) (Remote) |Senior Software Engineer - Full Stack (Remote) |Senior Software Engineer - Frontend, |Senior Software Engineer (React) |Senior Full-Stack Engineer (NodeJS, React, Typescript, GraphQL),\n",
      "Muhammad Hamza (ID - 1850): Senior Software Engineer (Backend) |Senior Data Engineer |Senior Software Enginee |Senior Software Engineer (Golang |Lead Full-Stack Enginee |Solutions Enginee |Full Stack Enginee |Engineering Support Manager |Senior Data Engineer |Data Engineer |Software Engineer |Full Stack Software Engineer (remote) |Senior Backend Developer |Site Reliability Engineer (SRE) |Software Engineer - Python GUI Tool Developer |Sr. Software Engineer with Email Infrastructure Expertise |Senior Software Engineer |Senior Software Engineer |Staff Software Engineer - Product Engineering |Systems Engineer |Senior Software Engineer |Sr. Systems Engineer |Staff Software Engineer, ML Platform |Senior Systems Engineer - Windows |#IM1350 Full Stack Developer (Python/Angular)S |API Developer |Staff Platform Security Engineer |Power BI Developer |Site Reliability Engineer - Cloud Infrastruct |Senior Software Engineer - REMOTE |Staff Python Backend Engineer |AI Python Engineers |Data Scientist |Senior C++ Engineer (Remote) |Senior Backend Software Engineer ., |Software Engineer |Software Engineer - Python |Senior Backend Engineer |Staff Engineer - Frontend |Python Engineer (Remote) |Sr. Python Engineer (4149) |Software Engineer - Escalations |Software Engineer |Software Engineer (Remote) |Fullstack Solution Architect with GCP Python experience |Staff Site Reliability Engineer, Federal Platform |Senior Software Engineer , Platform |Software Engineer (Full Stack) |Senior Software Engineer |Senior Software Engineer - (Go Lang OR Ruby) |manager i, software engineering |it manager - corporate portfolio |senior integration developer |java devloper |Senior Software Engineer, Bitg |Senior Software Engineer, Scope |Software Engineer, Common Roo |Sr. Software Enginee |Lead Software Enginee |Software Engineeer |Engineer II, Marketplace Integrations |Senior Software Engineer |Senior Full Stack Engineeer |Software Engineer (Frontendd) |Senior Fullstack Engineer - Javascript |Fullstack Engineer |Frontend ReactJS Developer |Senior Full Stack Engineeer |Senior Data Scientist |Data Scientist- Remote |Solution Architect |Staff Software Engineer |Full Stack Engineer |Senior Data Engineer |Software Engineers |PEOPLE DATA LABS |Senior Software Engineer,Future Audiences |Desarrollador, Front-end |Sr Software Engineer, Data Platform |machine learninig engineer |AI Data Scientist |Python Developer |Python Developer |Senior Software Engineer- Remote |Python Developer |Back End Developer. |Software Engineer |Full Stack Python developer |Senior Engineer, Payments. |Senior Backend Engineer |Lead Integration Engineer - Remote |API Developer- Python/Docker/Kubernetes/AWS 100% Remote $60/hr W2 |Couchbase Developer or Lead |Senior Software Enginee |Backend Software Engineer - Python/Postgres [Remote / Global |Senior Backend Enginee |Senior Backend Software Engineer (Python |Sr. Software Enginee |Software Enginee |Senior Developer Backend Pytho |Senior Software Engineer - 100% Remot |Software Enginee |Senior Full Stack Enginee |Senior Software Enginee |Software Develope |Software Engineer |Sr. Ruby on Rails Developer - PinSeeker |ROR developer |Senior Software Engineer- Ruby on Rails Developer |Senior Backend Engineer, |Sr. Software Engineer - Ruby on Rails - Men's Health Telemedicine - Startup |Senior Software Engineer |Senior Backend Engineer, |Lead Front-End Software Engineer. |Backend Engineers |Senior Software Engineer, Ruby on Rails |Senior Software Engineer.. |ref-teks:java tech lead |saviynt developer |vice president, business development - biotech solutions - us, remote |senior principal software engineer/architect, building insight |senior configuration/release software development engineer |principal backend engineer - grafana alloy opentelemetry collector (remote, us est) |aem backend developer |solution architect |claims knowledge management staff manager - remote |remote - sap consultant |senior software developer - python/java |senior software engineer - frontend - us |Sr. Software Engineer (Ruby on Rails |Senior Full Stack Developer |java developer (front-end/ui) |remote - sr. java developer with apis, aws and scala |java developers (not approved yet) - remote |software engineer (remote) |lead software engineer (remote) |manager, site reliability engineering |senior database engineer |fullstack java (w/ thymeleaf ) (m/f) – remote |it systems engineer - remote at mayo clinic |DevOps Engineer |Fullstack Python + JS Software Engineer - Remote |Back-End Developer |Full Stack Engine |Mid Level Full Stack Developer (Python) |Principal Full-Stack Engineer (primarily Backend focused) |java developer |senior software engineer, data platform team |react native developer |100% remote job - software application developer- 4 |senior staff engineer |mid frontend developer (remote) |sr mern stack developer (fulltime) - remote |web developer - remote |user experience designer |sap tm technical developer |drupal developer |android software engineer - remote! |sr. full-stack developer (.net/c#. angular) - remote - 5368 |react full stack developer (react, c#) |staff software engineer, merchant experience |Senior Software Engineer, Click Therapeutic |Senior Software Engineer, Euclid Powe |Senior Software Engineer, Flipside Crypt |Senior Fullstack Typescript Developer, Immunef |Senior Frontend Software Engineer, LinkSquare |Senior Software Engineer, Capm |principal software engineer - front end |senior software engineer |software engineer, black diamond |drupal developer |applications development team - application architect iii |sr. react js developer / lead / architect (direct client) |sr. frontend engineer - graph data visualisation (remote) |urgent opening - react native developer with web portal and mobile app exp - remote |software engineer 3 [remote] |senior software engineer - us remote |ios developers (remote) |sr. frontend engineer (design system) |tech lead - frontend, remote |senior front-end developer (remote) |senior full stack software engineer(remote) |senior web frontend engineer - remote |programmer analyst |Software Engineer III, Canvas Learning Platfor |Senior Software Engineer- Golan |azure devsecops developer |senior devops owner/engineer |Senior Full Stack Developer |business development manager |Sr. Software Engineer |Senior Software Engineer, Securefram |Full-Stack Engineer, Stytc |Senior Software Engineer, Kharo |Senior Full Stack Software Engineer, Ledger Investin |Senior Javascript Full-Stack Engineer, Filevin |Software Engineer, Vant |Senior Full Stack Engineer, Seven Starlin |Full-Stack Engineer, Tok |Senior Full Stack Engineer, Our |Senior Software Engineer, Posi |Senior Full Stack Engineer, Bodypor |Senior Software Engineer, Two Chair |Staff Software Engineer, Calibrat |Staff Software Engineer / Team Lead, LeanTaa |Software Engineer, Legalis |Senior Full Stack Software Engineer |Full Stack Engineer, Identity & Onboarding |Mid Level of Senior Full Stack Engineer |Software Engineer (Remote) |Software Engineer II |Full Stack Web Application Develop |Ruby on Rails Developer |Senior Back-end engineer. |Senior Full Stack Engineer Ruby on Rails |Senior Full-Stack Ruby on Rails EngineerRuby on Rails Developer |Software Development Engineer III |Software Engineer, EVM Node |Senior Software Engineer |Full-stack Software Engineer, Keelva |Software Engineer - Fullstack |Full Stack Developer - Defende |Senior Ruby on Rails Engineer |Software Development Engineer, Oru |Senior Software Engineer, Torc |Senior Software Engineer, SewerA |Staff Software Engineer, Material Ban |Lead Software Engineer, Beehii |Software Engineer, EvenU |Principal Software Engineer, Pulum |Full Stack Engineer, Embrac |Senior Front End Engineer, Ampe |Senior Developer Full- Stack (Freelance) |GIS Software Developer |Senior Software Engineer |Lead Software Engineer, Python SDK |Full-Stack Engineer |Senior Software Engineer |Rapid Application Developer/Engineer |Senior Backend Engineer (Python) |Python Backend Developer - Full Time |lead devops engineer |sr. software engineer |sales manager |golang developer |api developer |senior servicenow developer |software engineer - automation - remote |java backend developer (w2/fulltime role) |senior software engineer (remote) (js/typescript/node.js) |senior fullstack engineer |Senior Software Engineer Infrastructure |Senior Full Stack Engineer |Senior Software Engineer |Application Programmer (Level II) |Staff Software Engineer Fullstack |Full Stack Engineer |Senior Engineer |Data Engineer |senior java developer with domain expertise for wire transfer platform |senior software engineer (multiple positions) |manager, tech support engineering |p&c product management manager |(remote) sr. front-end engineer\n",
      "Muhammad Kaleem Azhar (ID - 2181): Senior Software Engineer |Senior Software Engineer |Software Develope |Senior Software Engineer ( 6 months fixed term contract) |Back End Developer |Sr. Full Stack Developer (Node.js/Next.js/TypeScript/MongoDB) |Frontend Developer, Backend Developer, Full-stack Developer |Full Stack Developer |Senior software engineer with over 8 years of experience specializing in Node.js-based frameworks and technologies. Proficient in full stack development, adept at enhancing system reliability, security, and performance. Strong background in team mentorship and code quality improvement. |Full Stack Developer Intern |Full Stack Develope |Full Stack Developer (Senior) |Mid Level Full Stack Developer (Python) |Full Stack Developer |Senior Full Stack Developer |Full Stack Develope |Junior Full Stack Developer |Remote Senior Fullstack Engineer (Ruby/Rails) |Sr Full stack Engineer |FrontEnd Developer |Frontend Developer |Full Stack Engineer. |Freelance Frontend Developer Reactjs |Full Stack Engineer |Full-Stack Engineer |Senior Frontend Developer |Front-end developer |Full Stack Engineer |Senior React Redux Front-End Developer |Senior Frontend Engineer |Back End Developer |Sr Frontend Developer |Front-end Developer |Senior Frontend Developer (React Native) |Junior Front-End Developer |Developer |Back End Developer |Full Stack Javascript Developer |Front-End Developer |Front-end developer |React Developer Mid/Senior |Python Backend Developer |Next.js Front-End Developer |Sr React Developer |Senior Software Engineer (NodeJS) |Medior Full-stack Developer with No-code/Low-code Experience |Full Stack Engineer |Middle Full - Stack Developer (ReactJS + Node.js) |Web Developer |Senior React Developer |FrontEND Developer Senior |Frontend Developer |Junior Full Stack Engineer |Software Engineer II |Desenvolvedor Frontend JQuery Pleno/Sênior |Frontend Developer |Senior Software Engineer (Python/ Full-stack/ AWS) |Desarrollador/a de front-end REMOTE |Middle Ruby on Rails Developer |Python Developer (MLOps) |Vue.js Developer - Freelancer |Python Backend Developer |Senior Full Stack Engineer (Contract) |Web3 Senior Backend Developer (Solidity/GoLang/TypeScript) |Backend + Blockchain Developer |SENIOR FRONTEND DEVELOPER (REACT) |FullStack Developer (Ruby on Rails / React) |NextJS Front-End Developer |Back End Developer (Python) |Senior Front-End Engineer |Frontend Developer (Angular) |Python Engineer |Senior Python Django Backend Engineer |React Developer |Founding Full Stack & AI Engineer at The Outdoor Builders |Frontend Developer . |Middle/Senior Software Engineer (Typescript) - Latin America at Rollstack |Full Stack Engineer at Well genie (Aura Health) |Senior Full-Stack Developer ( Python & ReactJS ) |Senior Software Engineer (Front End) at Zenlytic |Senior Frontend Engineer (Angular) (m/f/d) at Appinio |Founding Full Stack Developer at Werq Ai |Frontend Developer |Full-Stack/Back-end Developer at dMarqt at dMarqt |Senior Software Engineer |Full Stack Engineer at Bantr ;) at Bantr |Full Stack Developer (JS). at Flykod |Blockchain Developer |Full Stack Developer 40h/w [React / NestJS] at Ellty |React Frontend Developer |Frontend Developer |Full Stack Developer Need (Part time) |Frontend Developer. |Senior Front End Developer |Senior Frontend Engineer, Acquisition and App Experience |Desenvolvedor Front-end Jr - React |Software Developer |Front-end Developer (TypeScript, Next.js) |Backend Developer |Full Stack Engineer |Backend Engineer (Node.js) |Full Stack Engineer (Next.JS, SaaS Front End) |Senior Front End / Design Engineer |Frontend Developer |Full Stack Engineer (Python + React.js) |Senior Frontend Developer (React) |Frontend Software Engineer |Ecommerce Software Engineer |Desarrollador de back-end |Backend Developer |React Developer |Frontend Develope |Full Stack Enginee |Senior Full Stack Developer (T3 Stack) |Full Stack Develope |Full-stack Develope |Senior Full Stack Developer |Full Stack Develope |Full Stack Enginee |Frontend Develope |Senior Full Stack Engineer |Senior Frontend Develope |Full Stack Developer |Full Stack Developer |Python Developer |Senior Full Stack Developer (Front End) |Full-Stack Developer |Full Stack Developer |Full Stack Developer - Remote - Poland |Middle Full Stack Developer (Vue.JS, Node.JS) |Full stack developer- Freelance P.IVA- Full Remote |Middle Full Stack Developer (PHP/Symfony + Vue) |Senior Full Stack Developer Smart Working |Lead Full Stack Developer - WordPress (Remote UK only) |Senior Full Stack Developer - Machine Learning/AI (m/w/d) - Ramboll Tech |Remote Full Stack Develope |Senior Full Stack Developer |Senior Java Developer OR Senior Full Stack Developer (JAVA + REACT) - FULL REMOTE - PORTUGAL |Full stack Developer, IgniteTech (Remote) - $100,000/year USD |Full Stack Engineer |Full-Stack Software Engineer, Growth |Full Stack Enginee |Full Stack Enginee |Senior Full Stack Developer |Senior Full-Stack JS Developer |Full Stack Developer / Co-Founder (m/f/d) |Python Develope |Senior Platform Engineer |Desenvolvedor(a) Web Senior Javascrip |Cloud Data Engineer |PHP Developer (Remote From Anywhere) |Frontend Developer |Back-End Developer |Full Stack Developer - Founding Team Member |Senior Software Enginee |CZECH SPEAKING | DevOps Senior Software Engineer |Big Data Developer |Wordpress Developer |Fullstack Python + JS Software Engineer - Remote |DevOps Engineer |Web3 Rust and TypeScript Developer || $150K - $250K |Senior Full-stack Develope |Angular Develope |Web Developer with SEO background |Software Engineer Python / Django |Frontend/Full-tech developer |Full Stack NODEJS Develope |GIS Frontend Develope |Sr Node.JS Developer |Senior Front-End Engineer |Ruby on Rails Enginee |Full Stack Enginee |Senior Backend Engineer |Python Develope |Senior Full Stack Developer |Web Developer |Full Stack software engineer |Développeur Full Stack |Full Stack Tech Lead (TypeScript, Node) |Senior Full Stack Engineer |Remote Full Stack Engineer - Full Time |Web developer |Python Developer |Web developer |Python Developer |Mid Level of Senior Full Stack Engineer |Software Engineer |Fullstack Developer |Software Architect |Software Developer |Full Stack Engineer |Back End Developer |Senior Full Stack Engineer |Senior FullStack Developer (Ruby on Rails) |Full Stack Developer |Desenvolvedor Python |Senior Python Developer |Back-end developer |Back-end developer |Frontend Developer |Full-Stack Developer (freelancer) |Fullstack developer |Solana Blockchain developer |Senior FrontEnd Developer (React - Typescript) Remoto |Senior Frontend Developer (React) |Web Developer JavaScript |Front End Developer (SaaS Application Development) |Sr Ruby On Rails Developer(Certified) - W2 |Fullstack Developer |Senior Software Engineer - eRx & Labs |Ruby on Rails Developer |Full Stack Ruby on Rails Engineer |Senior Frontend Developer |Sr Frontend Developer |Full Stack Engineer |Ruby on Rails Developer |Lead Back End Engineer |Frontend Developer next..js |Python Developer |Frontend Angular Developer |Frontend Software Engineer. |Experienced Frontend Developers |Frontend Developer |IOT ENGINEER |Senior Full Stack Engineer |React Front-End Developer |Frontend (Angular) Developer |Angular and/or React SR Frontend Developer |Python Developer |Backend Software Engineer - AI Startup |React Developer |Frontend Developer Typescript |Full Stack Engineer |Ruby on Rails Developer |Senior Software Engineer (Product Growth) |Experienced Rails Engineer - 6 Month Project |Remote Full Stack Developer |Sr. Ruby on Rails Developer |Full stack API Developer |Senior Ruby On Rails Engineer |API/ Ruby On Rails Developer |Senior FullStack Ruby on Rails Engineer |Sr. Software Engineer (Ruby on Rails) |Senior Full-Stack Engineer |Full Stack Software Engineer |Ruby on Rails Developer |Senior Software Engineer - Backend |Senior Full Stack Engineer (Frontend & AI) |Senior Full Stack Engineer |Ruby On Rails Engineer - Remote & Day Shift |Frontend Developer at Hays |Senior Full Stack Software Engineer . |Senior Fullstack JavaScript Engineer |Node JS Developer |Front end Engineer |Full Stack Engineer |Senior Web3 Backend Engineer |Angular/Node JS Front End Developer (W -2 Only) |Data Engineer |Junior Front End Developer | Freelancer |Backend Software Engineer |Dotnet Developer |Azure Full Stack Developer |Full Stack Ionic | Teletrabajo |Senior Backend Engineer - Node.JS (m/f/d) |Senior Full Stack Develope |Programista Drupal |Lead Mern Stack Develover |Sr. Software Full Stack Engineer (L3) - MERN Stack |Ruby Full-Stack Engineer |Python Developer |Senior Backend Developer |Programador full stack |Sviluppatore Magento 2 |Full Stack Develope |Full Stack Develope |Full Stack Enginee |Full Stack Engineer |SAP Fullstack Developer |Software Enginee |Software Developer |Software Engineer (Full-Stack) |Sr. Software Engineer Senior Engineer |Tech Lead / Senior Software Engineer |Senior Node.js Developer |Frontend Developer |Frontend Developer (TS/JS), možnost full remote |Lead Python Engineer |Sr OR Middle Backend Developer (Node.js) |Sr Front End Developer - 100% Remote |Developer Backend |Full-Stack Engineer |Frontend Developer |Frontend Developer - Trading Tech (DeFi) |Sr. Front-End Engineer |Frontend Developer |Full-Stack Blockchain Developer |Software Engineer - Backend (Senior) at Atlas (S21) |MERN Google API Developer |Web Developer Ruby on Rails |Senior Python Developer (m/f/d) |Senior Frontend Engineer (React) |Python Developer |Senior Full Stack Javascript Engineer |Senior Python Developer |Full Stack Engineer |Python-разработчик | Middle/Senior |Senior Software Engineer |Full Stack Developer |Senior Front End Developer (Vue.js/Nuxt.js) |Ruby on Rails Developer |Full Stack Engineer |Software Developer, Ruby on Rails (Junior - Mid) |Python Developer |Fullstack Developer |FrontEnd Developer ReactJS (24R01MF) |Senior Full-Stack Developer (React + Node) |Backend Developer (Python) (3600 USD/Mes) |Python Developer |Sr. Python Developer |Lead Full Stack Developer |Full Stack Developer (AI / ML) |Junior Web Developer (Remote) |React/Python Developer |Full Stack Javascript Engineer |Full Stack Engineer |Senior Python Developer |FULLSTACK DEVELOPER |Front-End Developer |Frontend-разработчик |Senior Software Engineer, Delivery (Remote) |Staff Full-Stack Engineer |Senior Frontend Developer |Developer Frontend Angular |Founding Full Stack Web Developer |Desenvolvedor full stack - RoR + Angular + AWS |Software Engineer Typescript |Web developer |Frontend Developer |Back End Developer |Ruby on Rails Developer |Software Developer |Junior Software Engineer |Web developer |Senior Software Engineer at Lark |Web Developer |Senior Frontend Developer |Software Engineer |Senior Backend (NodeJS) Engineer |Web Developer |Ruby on Rails developer (m/f/d) with a lot of potential |Desarrollador Semi-senior Backend Node Js / JS |Back End Developer (6-Month Contract) |Senior Ruby on Rails Developer // Berlin ( Remote ) // B2B Software // Up to 80k |Full Stack Engineer |Ruby on Rails Developer |Software Engineer (SDE II) (multiple openings) (m/w/d) |Fullstack Node.js Developer |SuiteScript/Javascript Developers |Ruby on Rails Developer |Front-end Software Engineer - InPost Fresh |Backend developer |Sviluppatore Front-End Senior |Full Stack Developer |Front End Software Developer |Front End Developer React |Sr. Front End Developer |Full Stack Developer Senior |React Developer at InterEx Group |Full Stack Engineer |Sr. Frontend Engineer |Software Engineer\n",
      "Zunaira Afzal (ID - 1579): remote web developer |remote software developer (java or c# req. $65-75k) |Sr. Software Engineer, remote |Senior Ruby on Rails Software Engineer, remote |Staff Software Engineer |Software Engineer .. |Full-Stack Engineer |Associate Software Developer |Senior Ruby on Rails Engineer |Mid Ruby on Rails Engineer, |Software Developer |Sr. Full Stack Engineer Remote |Software Engineer |Senior Software Engineer, Shopper Engagement |Mid-level Fullstack Engineer (Remote)-US |Sr. Ruby on Rails Engineer |web developer |Software Engineer, Ruby |Senior Software Engineer,Growth |Senior Software Engineer (Contract) |Software Engineer (Full Stack) |Support Engineer, Supplier |Engineer III, Application Systems |Team Lead, Software Development. |Senior Software Engineer, |Staff Software Engineer | Fullstack, |Senior Software Engineer, Senior level |Software Engineer, |Senior Engineering Manager |Flink Software Engineer - Remote |Software Engineer, Snapsheet |Software Engineer |Back-End Engineer |Senior Full-Stack Engineer |Associate/Mid Software Engineer |Sr. Ruby on Rails Developer |Staff Software Engineer - Applied Generative AI |Software Engineering Manager |SSenior Full Stack Engineer, Vantageoftware Engineer |Ruby on Rails Developer |ROR developer |Remote Software Enginee |Senior Full Stack Engineer / $150k+ / 100% Remote / Automotive Telematic |Staff Software Enginee |Security Software Enginee |Software Enginee |Senior Software Engineer |Senior Software Engineer (Product |Lead C# .NET Software Engineer |Full Stack .Net Developer |Sr Backend Engineer Remote |Full Stack Developer |Azure .Net Developer |Senior Software Engineer (Fulltime | Remote) |.Net Developer II |Full Stack Engineer |full stack developer (ruby/react) |software engineer |Senior Fullstack Engineer Javascript |Lead Software Engineer |manager i, software engineering |EverPro - Staff Software Engineer, Platform - Remote (US/CAN) |.NET Developer |Senior Software Engineer\\Developer |C# Dev |Senior Software Engineer II. |Application Programmer III (Remote) |Engineer, Applications Development - Remote |Software Developers - AI Training (Contract) |Full Stack Engineer w/ AWS Cloud - 240049 (No C2C or 3rd parties) |Senior Software Engineer - .NET |Software Engineer |Lead Application Developer (remote) |Senior . Net Developer 1 |.Net Applications Architect |Senior Application Developer - AI |Advanced Software Developer (Fully Remote) |.NET Software Engineer |.Net Full Stack with Microservices & Angular - R01539245e |Senior Full Stack Software Engineer remote |Dotnet Developer |senior .net web developer |Full Stack Developer |Sr. Ruby on Rails Developer - PinSeeker |ROR developer |Senior Software Engineer- Ruby on Rails Developer |Software Engineer, |Staff Software Engineer - RaptorDB Provisioning |Sr. Software Engineer - Ruby on Rails - Men's Health Telemedicine - Startup |Senior Software Engineer, Ruby on Rails |Senior Full Stack Developer |Full Stack Software Engineer |Software Engineer, remote |Sr Ruby on Rails Developer |Fullstack Engineer. |Staff Software Backend Engineer. |Software Developer |Senior Ruby on Rails // LA |Experienced Software Engineering - Identity Verification |Staff Software Engineer |Remote Web Developer |Software Engineer |Technology Specialist |Senior Full Stack Engineer |Software Engineer (Full Stack)s |Senior Software Engineer; Platform |Sr Software Engineer |Senior Full Stack Software Engineer |Senior Software Engineer (Ruby On Rails) |Ruby on Rails Develope |asp.net developer - remote - fulltime |azure full stack developer |senior software engineer (adtech) |staff backend product engineer |software engineer ii, backend engineering |software developer |remote work - need azure developer |Lead Developer - Hyreca |saviynt developer |azure devops engineer |web/database developer - remote |full stack .net developer |Infrastructure Engineer I |Sr. Software Engineer (Ruby on Rails |Web Software Develope |Software Engineer (Testing |senior software engineer- kubernetes |net software engineer w/angular |Backend Developer |Solutions Engineer c# & React |Technical Consultant |Senior Full Stack Engineer |Sr Software Engineer |Staff Software Engineer |SENIOR .NET DEVELOPER – DIGITAL IDENTITY FOCUS |Full Stack Software Engineer |Sr. Full-Stack .NET Developer |100% remote .NET contractor |Lead Software Developer |Senior Fullstack Engineer |Backend Software Engineer (Remote) |.Net Developer (Azure data exp) No C2C |Senior Software Engineer 1 |Full Stack Software Engineer |Senior Software-Engineer |Software Engineer II |Senior Software Engineer |Senior Full Stack Engineer |.Net Developer |Sr Programmer - Remote Position |Sr. Full Stack SFCC Developer. |Full Stack Engineer, Identity & Onboarding |Lead Ruby on Rails Developer. |Senior Fullstack Engineer |Mid Level of Senior Full Stack Engineer |Senior Software Engineer, React/Rails |Full-Stack Engineer (Remote) |Senior Full Stack Engineer Ruby on Rails |Senior Software Engineer, Ruby/RailsRuby |Senior Full-Stack Ruby on Rails EngineerRuby on Rails Developer |Senior / Staff Back End Engineer |Senior Backend Software Engineer |software engineer- sr automation engineer |Full Stack Developer |Senior Software Engineer (Product Growth) |Integrations Engineer |Experienced Rails Engineer - 6 Month Project |Senior Software Engineer 1 |Senior Software Engineer - 100% Remote |Software Engineer, Senior |senior software engineer - fullstack |full stack sr. software developer |Intermediate Backend Developer |Ruby on Rails Developer |Software Engineer II (Communications Platform) |Senior Software Engineer |Senior Software Engineer, Ads Contextual Intelligence |Sr. Fullstack Engineer.. |Remote Senior Fullstack Engineer (Ruby/Rails) |Senior Software Engineer (Full-Stack), Growth Product |Staff Software Engineer |Senior Software Engineer (Front-end) |senior software engineer (multiple positions) |Senior Ruby on Rails Engineer |Software Engineer III, Healt |Senior Software Engineer, Securefram |Senior Full Stack Developer |Sr. Software Engineer |Staff Software Engineer (Web App) |Software Engineer |Principal Software Engineer |Senior Software Engineer, Torc |Full Stack Developer |Software Enginee |Software Enginee |Full Stack Ruby on Rails Software Engineer |Cloud Software Engineer (US Remote) |Staff Software Engineer |Associate Developer |.NET Web Developer |Mid-Level Full Stack Engineer |Sr Software Engineer |.NET API Developer |Senior Software Engineer |Remote .Net/Angular Developer |Senior BackEnd Engineer |Senior Software Engineer (C#) |Lead .Net Developerhttps://www.akkodis.com/en-us/careers/jobs/lead-net-developer-portland/US_EN_6_971574_1547995 |Senior Optimizely Backend Developer |Senior Developer |Lead Software Engineer |.NET Developer\n"
     ]
    }
   ],
   "source": [
    "# List the job titles applied by each applier\n",
    "\n",
    "applier_job_titles = df.groupby('Job Applied By')['Job Title'].apply(list).reset_index()\n",
    "\n",
    "for index, row in applier_job_titles.iterrows():\n",
    "    print(f\"{row['Job Applied By']}: {' |'.join(row['Job Title'])}\")\n"
   ]
  },
  {
   "cell_type": "code",
   "execution_count": 25,
   "metadata": {},
   "outputs": [
    {
     "name": "stderr",
     "output_type": "stream",
     "text": [
      "C:\\Users\\Dev\\AppData\\Local\\Temp\\ipykernel_14036\\1198780610.py:24: UserWarning:\n",
      "\n",
      "FigureCanvasAgg is non-interactive, and thus cannot be shown\n",
      "\n"
     ]
    }
   ],
   "source": [
    "# Majorit Work Done?\n",
    "import matplotlib.pyplot as plt\n",
    "\n",
    "df['Applied At'] = pd.to_datetime(df['Applied At'])\n",
    "\n",
    "# Extract the hour from 'Applied At'\n",
    "df['Hour'] = df['Applied At'].dt.hour\n",
    "\n",
    "# Count the number of job applications for each applier per hour\n",
    "hourly_counts = df.groupby(['Job Applied By', 'Hour']).size().unstack(fill_value=0)\n",
    "\n",
    "# Plotting the data\n",
    "fig, ax = plt.subplots(figsize=(15, 8))\n",
    "\n",
    "for applier in hourly_counts.index:\n",
    "    ax.plot(hourly_counts.columns, hourly_counts.loc[applier], marker='o', label=applier)\n",
    "\n",
    "ax.set_title('Hourly Work Done by Each Applier')\n",
    "ax.set_xlabel('Hour of the Day')\n",
    "ax.set_ylabel('Number of Applications')\n",
    "ax.legend(title='Applier')\n",
    "ax.grid(True)\n",
    "plt.xticks(range(24))  # Ensures all 24 hours are shown on the x-axis\n",
    "plt.show()\n"
   ]
  },
  {
   "cell_type": "code",
   "execution_count": 26,
   "metadata": {},
   "outputs": [
    {
     "data": {
      "application/vnd.plotly.v1+json": {
       "config": {
        "plotlyServerURL": "https://plot.ly"
       },
       "data": [
        {
         "hovertemplate": "Applier=Ahsan Mehmood (ID - 2016)<br>Hour of the Day=%{x}<br>Number of Applications=%{y}<extra></extra>",
         "legendgroup": "Ahsan Mehmood (ID - 2016)",
         "line": {
          "color": "#000001",
          "dash": "solid"
         },
         "marker": {
          "symbol": "circle"
         },
         "mode": "lines+markers",
         "name": "Ahsan Mehmood (ID - 2016)",
         "orientation": "v",
         "showlegend": true,
         "type": "scatter",
         "x": [
          6,
          7,
          8,
          9,
          10,
          11,
          12,
          14,
          15
         ],
         "xaxis": "x",
         "y": [
          7,
          3,
          20,
          29,
          22,
          17,
          8,
          9,
          13
         ],
         "yaxis": "y"
        },
        {
         "hovertemplate": "Applier=Ali Husnain (ID - 1496)<br>Hour of the Day=%{x}<br>Number of Applications=%{y}<extra></extra>",
         "legendgroup": "Ali Husnain (ID - 1496)",
         "line": {
          "color": "#000002",
          "dash": "solid"
         },
         "marker": {
          "symbol": "circle"
         },
         "mode": "lines+markers",
         "name": "Ali Husnain (ID - 1496)",
         "orientation": "v",
         "showlegend": true,
         "type": "scatter",
         "x": [
          6,
          7,
          8,
          9,
          10,
          11,
          12,
          13
         ],
         "xaxis": "x",
         "y": [
          5,
          10,
          14,
          13,
          10,
          10,
          3,
          7
         ],
         "yaxis": "y"
        },
        {
         "hovertemplate": "Applier=Irtaza Afzal (ID - 2055)<br>Hour of the Day=%{x}<br>Number of Applications=%{y}<extra></extra>",
         "legendgroup": "Irtaza Afzal (ID - 2055)",
         "line": {
          "color": "#000003",
          "dash": "solid"
         },
         "marker": {
          "symbol": "circle"
         },
         "mode": "lines+markers",
         "name": "Irtaza Afzal (ID - 2055)",
         "orientation": "v",
         "showlegend": true,
         "type": "scatter",
         "x": [
          6,
          7,
          8,
          9,
          10,
          11,
          12,
          13,
          14
         ],
         "xaxis": "x",
         "y": [
          1,
          54,
          18,
          72,
          21,
          23,
          24,
          20,
          35
         ],
         "yaxis": "y"
        },
        {
         "hovertemplate": "Applier=Kanwar Zahid Sarfraz (ID - 2064)<br>Hour of the Day=%{x}<br>Number of Applications=%{y}<extra></extra>",
         "legendgroup": "Kanwar Zahid Sarfraz (ID - 2064)",
         "line": {
          "color": "#000004",
          "dash": "solid"
         },
         "marker": {
          "symbol": "circle"
         },
         "mode": "lines+markers",
         "name": "Kanwar Zahid Sarfraz (ID - 2064)",
         "orientation": "v",
         "showlegend": true,
         "type": "scatter",
         "x": [
          6,
          7,
          8,
          9,
          10,
          11,
          12,
          13,
          14,
          15,
          16
         ],
         "xaxis": "x",
         "y": [
          10,
          29,
          15,
          21,
          21,
          8,
          23,
          13,
          26,
          22,
          27
         ],
         "yaxis": "y"
        },
        {
         "hovertemplate": "Applier=Muhammad Ali (ID - 1566)<br>Hour of the Day=%{x}<br>Number of Applications=%{y}<extra></extra>",
         "legendgroup": "Muhammad Ali (ID - 1566)",
         "line": {
          "color": "#000005",
          "dash": "solid"
         },
         "marker": {
          "symbol": "circle"
         },
         "mode": "lines+markers",
         "name": "Muhammad Ali (ID - 1566)",
         "orientation": "v",
         "showlegend": true,
         "type": "scatter",
         "x": [
          7,
          8,
          9,
          10,
          11,
          12,
          13,
          14,
          15,
          16
         ],
         "xaxis": "x",
         "y": [
          23,
          22,
          26,
          6,
          27,
          21,
          30,
          47,
          25,
          8
         ],
         "yaxis": "y"
        },
        {
         "hovertemplate": "Applier=Muhammad Hamza (ID - 1850)<br>Hour of the Day=%{x}<br>Number of Applications=%{y}<extra></extra>",
         "legendgroup": "Muhammad Hamza (ID - 1850)",
         "line": {
          "color": "#000006",
          "dash": "solid"
         },
         "marker": {
          "symbol": "circle"
         },
         "mode": "lines+markers",
         "name": "Muhammad Hamza (ID - 1850)",
         "orientation": "v",
         "showlegend": true,
         "type": "scatter",
         "x": [
          7,
          8,
          9,
          10,
          11,
          12,
          13,
          14,
          15,
          16
         ],
         "xaxis": "x",
         "y": [
          24,
          20,
          27,
          9,
          46,
          42,
          77,
          16,
          2,
          1
         ],
         "yaxis": "y"
        },
        {
         "hovertemplate": "Applier=Muhammad Kaleem Azhar (ID - 2181)<br>Hour of the Day=%{x}<br>Number of Applications=%{y}<extra></extra>",
         "legendgroup": "Muhammad Kaleem Azhar (ID - 2181)",
         "line": {
          "color": "#000007",
          "dash": "solid"
         },
         "marker": {
          "symbol": "circle"
         },
         "mode": "lines+markers",
         "name": "Muhammad Kaleem Azhar (ID - 2181)",
         "orientation": "v",
         "showlegend": true,
         "type": "scatter",
         "x": [
          6,
          7,
          8,
          9,
          10,
          11,
          12,
          13,
          14,
          15,
          16,
          17
         ],
         "xaxis": "x",
         "y": [
          7,
          20,
          12,
          11,
          33,
          28,
          56,
          38,
          74,
          48,
          25,
          20
         ],
         "yaxis": "y"
        },
        {
         "hovertemplate": "Applier=Zunaira Afzal (ID - 1579)<br>Hour of the Day=%{x}<br>Number of Applications=%{y}<extra></extra>",
         "legendgroup": "Zunaira Afzal (ID - 1579)",
         "line": {
          "color": "#000008",
          "dash": "solid"
         },
         "marker": {
          "symbol": "circle"
         },
         "mode": "lines+markers",
         "name": "Zunaira Afzal (ID - 1579)",
         "orientation": "v",
         "showlegend": true,
         "type": "scatter",
         "x": [
          2,
          3,
          4,
          5,
          6,
          7,
          8,
          9,
          10,
          11,
          12,
          13,
          14
         ],
         "xaxis": "x",
         "y": [
          3,
          14,
          25,
          13,
          26,
          26,
          12,
          9,
          24,
          16,
          27,
          14,
          3
         ],
         "yaxis": "y"
        }
       ],
       "layout": {
        "legend": {
         "title": {
          "text": "Applier"
         },
         "tracegroupgap": 0
        },
        "template": {
         "data": {
          "candlestick": [
           {
            "decreasing": {
             "line": {
              "color": "#000033"
             }
            },
            "increasing": {
             "line": {
              "color": "#000032"
             }
            },
            "type": "candlestick"
           }
          ],
          "contour": [
           {
            "colorscale": [
             [
              0,
              "#000011"
             ],
             [
              0.1111111111111111,
              "#000012"
             ],
             [
              0.2222222222222222,
              "#000013"
             ],
             [
              0.3333333333333333,
              "#000014"
             ],
             [
              0.4444444444444444,
              "#000015"
             ],
             [
              0.5555555555555556,
              "#000016"
             ],
             [
              0.6666666666666666,
              "#000017"
             ],
             [
              0.7777777777777778,
              "#000018"
             ],
             [
              0.8888888888888888,
              "#000019"
             ],
             [
              1,
              "#000020"
             ]
            ],
            "type": "contour"
           }
          ],
          "contourcarpet": [
           {
            "colorscale": [
             [
              0,
              "#000011"
             ],
             [
              0.1111111111111111,
              "#000012"
             ],
             [
              0.2222222222222222,
              "#000013"
             ],
             [
              0.3333333333333333,
              "#000014"
             ],
             [
              0.4444444444444444,
              "#000015"
             ],
             [
              0.5555555555555556,
              "#000016"
             ],
             [
              0.6666666666666666,
              "#000017"
             ],
             [
              0.7777777777777778,
              "#000018"
             ],
             [
              0.8888888888888888,
              "#000019"
             ],
             [
              1,
              "#000020"
             ]
            ],
            "type": "contourcarpet"
           }
          ],
          "heatmap": [
           {
            "colorscale": [
             [
              0,
              "#000011"
             ],
             [
              0.1111111111111111,
              "#000012"
             ],
             [
              0.2222222222222222,
              "#000013"
             ],
             [
              0.3333333333333333,
              "#000014"
             ],
             [
              0.4444444444444444,
              "#000015"
             ],
             [
              0.5555555555555556,
              "#000016"
             ],
             [
              0.6666666666666666,
              "#000017"
             ],
             [
              0.7777777777777778,
              "#000018"
             ],
             [
              0.8888888888888888,
              "#000019"
             ],
             [
              1,
              "#000020"
             ]
            ],
            "type": "heatmap"
           }
          ],
          "histogram2d": [
           {
            "colorscale": [
             [
              0,
              "#000011"
             ],
             [
              0.1111111111111111,
              "#000012"
             ],
             [
              0.2222222222222222,
              "#000013"
             ],
             [
              0.3333333333333333,
              "#000014"
             ],
             [
              0.4444444444444444,
              "#000015"
             ],
             [
              0.5555555555555556,
              "#000016"
             ],
             [
              0.6666666666666666,
              "#000017"
             ],
             [
              0.7777777777777778,
              "#000018"
             ],
             [
              0.8888888888888888,
              "#000019"
             ],
             [
              1,
              "#000020"
             ]
            ],
            "type": "histogram2d"
           }
          ],
          "icicle": [
           {
            "textfont": {
             "color": "white"
            },
            "type": "icicle"
           }
          ],
          "sankey": [
           {
            "textfont": {
             "color": "#000036"
            },
            "type": "sankey"
           }
          ],
          "scatter": [
           {
            "marker": {
             "line": {
              "width": 0
             }
            },
            "type": "scatter"
           }
          ],
          "table": [
           {
            "cells": {
             "fill": {
              "color": "#000038"
             },
             "font": {
              "color": "#000037"
             },
             "line": {
              "color": "#000039"
             }
            },
            "header": {
             "fill": {
              "color": "#000040"
             },
             "font": {
              "color": "#000036"
             },
             "line": {
              "color": "#000039"
             }
            },
            "type": "table"
           }
          ],
          "waterfall": [
           {
            "connector": {
             "line": {
              "color": "#000036",
              "width": 2
             }
            },
            "decreasing": {
             "marker": {
              "color": "#000033"
             }
            },
            "increasing": {
             "marker": {
              "color": "#000032"
             }
            },
            "totals": {
             "marker": {
              "color": "#000034"
             }
            },
            "type": "waterfall"
           }
          ]
         },
         "layout": {
          "coloraxis": {
           "colorscale": [
            [
             0,
             "#000011"
            ],
            [
             0.1111111111111111,
             "#000012"
            ],
            [
             0.2222222222222222,
             "#000013"
            ],
            [
             0.3333333333333333,
             "#000014"
            ],
            [
             0.4444444444444444,
             "#000015"
            ],
            [
             0.5555555555555556,
             "#000016"
            ],
            [
             0.6666666666666666,
             "#000017"
            ],
            [
             0.7777777777777778,
             "#000018"
            ],
            [
             0.8888888888888888,
             "#000019"
            ],
            [
             1,
             "#000020"
            ]
           ]
          },
          "colorscale": {
           "diverging": [
            [
             0,
             "#000021"
            ],
            [
             0.1,
             "#000022"
            ],
            [
             0.2,
             "#000023"
            ],
            [
             0.3,
             "#000024"
            ],
            [
             0.4,
             "#000025"
            ],
            [
             0.5,
             "#000026"
            ],
            [
             0.6,
             "#000027"
            ],
            [
             0.7,
             "#000028"
            ],
            [
             0.8,
             "#000029"
            ],
            [
             0.9,
             "#000030"
            ],
            [
             1,
             "#000031"
            ]
           ],
           "sequential": [
            [
             0,
             "#000011"
            ],
            [
             0.1111111111111111,
             "#000012"
            ],
            [
             0.2222222222222222,
             "#000013"
            ],
            [
             0.3333333333333333,
             "#000014"
            ],
            [
             0.4444444444444444,
             "#000015"
            ],
            [
             0.5555555555555556,
             "#000016"
            ],
            [
             0.6666666666666666,
             "#000017"
            ],
            [
             0.7777777777777778,
             "#000018"
            ],
            [
             0.8888888888888888,
             "#000019"
            ],
            [
             1,
             "#000020"
            ]
           ],
           "sequentialminus": [
            [
             0,
             "#000011"
            ],
            [
             0.1111111111111111,
             "#000012"
            ],
            [
             0.2222222222222222,
             "#000013"
            ],
            [
             0.3333333333333333,
             "#000014"
            ],
            [
             0.4444444444444444,
             "#000015"
            ],
            [
             0.5555555555555556,
             "#000016"
            ],
            [
             0.6666666666666666,
             "#000017"
            ],
            [
             0.7777777777777778,
             "#000018"
            ],
            [
             0.8888888888888888,
             "#000019"
            ],
            [
             1,
             "#000020"
            ]
           ]
          },
          "colorway": [
           "#000001",
           "#000002",
           "#000003",
           "#000004",
           "#000005",
           "#000006",
           "#000007",
           "#000008",
           "#000009",
           "#000010"
          ]
         }
        },
        "title": {
         "text": "Hourly Work Done by Each Applier"
        },
        "xaxis": {
         "anchor": "y",
         "domain": [
          0,
          1
         ],
         "title": {
          "text": "Hour of the Day"
         }
        },
        "yaxis": {
         "anchor": "x",
         "domain": [
          0,
          1
         ],
         "title": {
          "text": "Number of Applications"
         }
        }
       }
      }
     },
     "metadata": {},
     "output_type": "display_data"
    }
   ],
   "source": [
    "import plotly.express as px\n",
    "\n",
    "# Convert 'Applied At' to datetime if not already done\n",
    "df['Applied At'] = pd.to_datetime(df['Applied At'])\n",
    "\n",
    "# Extract the hour from 'Applied At'\n",
    "df['Hour'] = df['Applied At'].dt.hour\n",
    "\n",
    "# Count the number of job applications for each applier per hour\n",
    "hourly_counts = df.groupby(['Job Applied By', 'Hour']).size().reset_index(name='Count')\n",
    "\n",
    "# Create an interactive plot using Plotly\n",
    "fig = px.line(hourly_counts, x='Hour', y='Count', color='Job Applied By', markers=True,\n",
    "              title='Hourly Work Done by Each Applier',\n",
    "              labels={'Hour': 'Hour of the Day', 'Count': 'Number of Applications', 'Job Applied By': 'Applier'})\n",
    "\n",
    "fig.update_traces(mode='lines+markers')\n",
    "\n",
    "fig.show()\n"
   ]
  },
  {
   "cell_type": "code",
   "execution_count": 27,
   "metadata": {},
   "outputs": [],
   "source": [
    "import streamlit as st\n",
    "import pandas as pd\n",
    "import plotly.express as px\n",
    "from datetime import datetime\n",
    "\n",
    "st.set_page_config(layout=\"wide\")\n",
    "st.title('Job Application Analysis')\n",
    "effective_min_diff = 9\n",
    "\n",
    "def time_difference_adjustment(x):\n",
    "    if pd.isna(x):\n",
    "        return pd.NaT\n",
    "    elif x <= pd.Timedelta(minutes=effective_min_diff):\n",
    "        return x\n",
    "    else:\n",
    "        pd.Timedelta(minutes=4)\n",
    "\n",
    "# Upload CSV file\n",
    "uploaded_file = st.file_uploader(\"Choose a file\")\n",
    "if uploaded_file is not None:\n",
    "    df = pd.read_csv(uploaded_file)\n",
    "    \n",
    "    df['Applied At'] = pd.to_datetime(df['Applied At'])\n",
    "    df['Applied At Date'] = df['Applied At'].dt.strftime('%Y-%m-%d')\n",
    "    min_df_date = pd.to_datetime(df['Applied At Date'].min())\n",
    "    max_df_date = pd.to_datetime(df['Applied At Date'].max())\n",
    "    # Date and time picker widgets\n",
    "    start_date = st.sidebar.date_input(\"Start Date\", value=min_df_date)\n",
    "    start_time = st.sidebar.time_input(\"Start Time\", value=datetime.strptime(\"05:00\", \"%H:%M\").time())\n",
    "    end_date = st.sidebar.date_input(\"End Date\", value=max_df_date)\n",
    "    end_time = st.sidebar.time_input(\"End Time\", value=datetime.strptime(\"15:00\", \"%H:%M\").time())\n",
    "\n",
    "    # Combine date and time into datetime objects\n",
    "    start_datetime = datetime.combine(start_date, start_time)\n",
    "    end_datetime = datetime.combine(end_date, end_time)\n",
    "    start_time = pd.to_datetime(start_datetime)\n",
    "    end_time = pd.to_datetime(end_datetime)\n",
    "\n",
    "    applier_options = df['Job Applied By'].unique().tolist()\n",
    "    selected_applier = st.multiselect('Select an Applier:', applier_options)\n",
    "    st.header('Effective Working in Hours By Applier')\n",
    "\n",
    "    matches = df['Job Applied By'].isin(selected_applier)\n",
    "    df_filtered = df[matches]\n",
    "\n",
    "    df_filtered = df_filtered[(df_filtered['Applied At'] >= start_time) & (df_filtered['Applied At'] <= end_time)]\n",
    "    df_filtered.sort_values(by=['Job Applied By', 'Applied At'], inplace=True)\n",
    "    # TODO: Make average applying adjustment feature. \n",
    "    df_filtered['Time Difference'] = df_filtered.groupby('Job Applied By')['Applied At'].diff().apply(time_difference_adjustment)\n",
    "    "
   ]
  },
  {
   "cell_type": "code",
   "execution_count": null,
   "metadata": {},
   "outputs": [],
   "source": []
  }
 ],
 "metadata": {
  "kernelspec": {
   "display_name": "KSDS_Bootcamp",
   "language": "python",
   "name": "python3"
  },
  "language_info": {
   "codemirror_mode": {
    "name": "ipython",
    "version": 3
   },
   "file_extension": ".py",
   "mimetype": "text/x-python",
   "name": "python",
   "nbconvert_exporter": "python",
   "pygments_lexer": "ipython3",
   "version": "3.11.7"
  }
 },
 "nbformat": 4,
 "nbformat_minor": 2
}
