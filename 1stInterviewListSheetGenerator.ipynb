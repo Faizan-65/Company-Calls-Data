{
 "cells": [
  {
   "cell_type": "code",
   "execution_count": 122,
   "metadata": {},
   "outputs": [],
   "source": [
    "import pandas as pd\n",
    "import numpy as np"
   ]
  },
  {
   "cell_type": "code",
   "execution_count": 123,
   "metadata": {},
   "outputs": [
    {
     "data": {
      "text/plain": [
       "(790, 33)"
      ]
     },
     "metadata": {},
     "output_type": "display_data"
    },
    {
     "data": {
      "text/plain": [
       "(790, 2)"
      ]
     },
     "metadata": {},
     "output_type": "display_data"
    },
    {
     "data": {
      "text/plain": [
       "(319, 33)"
      ]
     },
     "metadata": {},
     "output_type": "display_data"
    }
   ],
   "source": [
    "# Read the CSV Files => rawSEexport, floorCapture, teamExport\n",
    "rawSEexport = pd.read_csv('./22 July/rawSEexport.csv', encoding='latin1')\n",
    "floorCapture = pd.read_csv('./22 July/floorCapture.csv', encoding='latin1')\n",
    "teamExport = pd.read_csv('./22 July/teamExport.csv', encoding='latin1')\n",
    "\n",
    "display(rawSEexport.shape)\n",
    "display(floorCapture.shape)\n",
    "display(teamExport.shape)"
   ]
  },
  {
   "cell_type": "code",
   "execution_count": 124,
   "metadata": {},
   "outputs": [
    {
     "name": "stdout",
     "output_type": "stream",
     "text": [
      "Dataframes have been merged successfully:\n"
     ]
    },
    {
     "data": {
      "text/plain": [
       "(790, 35)"
      ]
     },
     "metadata": {},
     "output_type": "display_data"
    },
    {
     "data": {
      "text/plain": [
       "Index(['Job ID', 'Job Title', 'Job Source', 'Job Location', 'Job Region',\n",
       "       'Job Types', 'Job Role', 'Job Created At', 'Job Created By',\n",
       "       'Job Posted At', 'Applied Job ID', 'Applier', 'Applied At', 'Lead ID',\n",
       "       'Lead Created At', 'Company Name / Client ID', 'Pseudo', 'Vertical',\n",
       "       'Primary Tech Stack', 'Secondary Tech Stacks', 'Phase',\n",
       "       'Phase Effective Date', 'Status', 'Status Effective Date', 'Assignee',\n",
       "       'Assignee Email', 'Assignee PM', 'Assignee Team Lead',\n",
       "       'Assignee Reporting To', 'BD', 'BD Email', 'Comment Link', 'Flagged By',\n",
       "       'CompanyName', ' Job Title'],\n",
       "      dtype='object')"
      ]
     },
     "metadata": {},
     "output_type": "display_data"
    }
   ],
   "source": [
    "# Map the floorCapture to rawSEexport\n",
    "if len(floorCapture) == len(rawSEexport):\n",
    "    # Merge the dataframes side by side\n",
    "    merged_df = pd.concat([rawSEexport, floorCapture], axis=1)\n",
    "    print(\"Dataframes have been merged successfully:\")\n",
    "    # print(merged_df)\n",
    "else:\n",
    "    print(\"The dataframes do not have the same number of rows and cannot be merged side by side.\")\n",
    "display(merged_df.shape)\n",
    "display(merged_df.columns)"
   ]
  },
  {
   "cell_type": "code",
   "execution_count": 125,
   "metadata": {},
   "outputs": [
    {
     "data": {
      "text/plain": [
       "(667, 35)"
      ]
     },
     "execution_count": 125,
     "metadata": {},
     "output_type": "execute_result"
    }
   ],
   "source": [
    "# Remove team's Companies from rawSEexport\n",
    "\n",
    "not_pace_df = merged_df[~merged_df[\"Company Name / Client ID\"].isin(teamExport[\"Company Name / Client ID\"])]\n",
    "not_pace_df.shape\n",
    "# not_pace_df['Primary Tech Stack'].unique()"
   ]
  },
  {
   "cell_type": "code",
   "execution_count": 126,
   "metadata": {},
   "outputs": [
    {
     "name": "stderr",
     "output_type": "stream",
     "text": [
      "C:\\Users\\Dev\\AppData\\Local\\Temp\\ipykernel_9184\\3288641503.py:2: SettingWithCopyWarning: \n",
      "A value is trying to be set on a copy of a slice from a DataFrame.\n",
      "Try using .loc[row_indexer,col_indexer] = value instead\n",
      "\n",
      "See the caveats in the documentation: https://pandas.pydata.org/pandas-docs/stable/user_guide/indexing.html#returning-a-view-versus-a-copy\n",
      "  not_pace_df['Cleaned Primary Tech Stack'] = not_pace_df['Primary Tech Stack'].map(mapping_dict).fillna('Other')\n"
     ]
    },
    {
     "data": {
      "text/plain": [
       "(667, 36)"
      ]
     },
     "execution_count": 126,
     "metadata": {},
     "output_type": "execute_result"
    }
   ],
   "source": [
    "# clean Primary Tech Stack\n",
    "not_pace_df['Cleaned Primary Tech Stack'] = not_pace_df['Primary Tech Stack'].map(mapping_dict).fillna('Other')\n",
    "not_pace_df.shape"
   ]
  },
  {
   "cell_type": "code",
   "execution_count": 127,
   "metadata": {},
   "outputs": [
    {
     "data": {
      "text/plain": [
       "(482, 36)"
      ]
     },
     "execution_count": 127,
     "metadata": {},
     "output_type": "execute_result"
    }
   ],
   "source": [
    "# Remove Duplicate Columns\n",
    "not_pace_df = not_pace_df.drop_duplicates(subset='CompanyName', keep='first')\n",
    "not_pace_df.shape\n"
   ]
  },
  {
   "cell_type": "code",
   "execution_count": 128,
   "metadata": {},
   "outputs": [],
   "source": [
    "# Add the Columns to keep\n",
    "columns_to_keep = [\n",
    "    'CompanyName',\n",
    "    'Job Title',\n",
    "    'Job Source',\n",
    "    'Cleaned Primary Tech Stack',\n",
    "    'Primary Tech Stack',\n",
    "    'Secondary Tech Stacks',\n",
    "    'Phase',\n",
    "    'Applied At',\n",
    "    'Lead Created At'\n",
    "]\n",
    "\n",
    "# Select only the specified columns\n",
    "not_pace_df = not_pace_df[columns_to_keep]"
   ]
  },
  {
   "cell_type": "code",
   "execution_count": 129,
   "metadata": {},
   "outputs": [],
   "source": [
    "not_pace_df.to_csv('categorized_tech_stacks.csv', index=False)"
   ]
  },
  {
   "cell_type": "code",
   "execution_count": 130,
   "metadata": {},
   "outputs": [],
   "source": [
    "# Read the file lines directly\n",
    "with open('PrimaryTechStacks.txt', 'r', encoding='utf-8') as file:\n",
    "    lines = file.readlines()  # Read lines directly\n",
    "\n",
    "# Create a DataFrame from the lines\n",
    "df = pd.DataFrame(lines, columns=['HTML_Content'])\n",
    "\n",
    "pattern = r\"<[^>]+>\"\n",
    "# Display the DataFrame\n",
    "df[\"HTML_Content\"] = df[\"HTML_Content\"].str.replace(pattern, '', regex=True)\n",
    "df[\"HTML_Content\"] = df[\"HTML_Content\"].str.replace('\\n', '',)\n",
    "df = df[~df['HTML_Content'].str.contains('\"', na=False)]\n",
    "df = df[~df['HTML_Content'].str.contains('_', na=False)]\n",
    "df = df.dropna()"
   ]
  },
  {
   "cell_type": "code",
   "execution_count": 131,
   "metadata": {},
   "outputs": [],
   "source": [
    "mapping_dict = {\n",
    "    # Ruby\n",
    "    'Ruby': 'Ruby',\n",
    "    'Ruby on Rails': 'Ruby',\n",
    "    'RoR': 'Ruby',\n",
    "    'RSpec': 'Ruby',\n",
    "    'Sinatra': 'Ruby',\n",
    "    'Padrino': 'Ruby',\n",
    "    'Hanami': 'Ruby',\n",
    "    'Jekyll': 'Ruby',\n",
    "    'Rails': 'Ruby',\n",
    "    'RubyMotion': 'Ruby',\n",
    "\n",
    "    # .NET\n",
    "    '.NET': '.NET',\n",
    "    '.NET Core': '.NET',\n",
    "    '.NET Framework': '.NET',\n",
    "    'ASP.NET': '.NET',\n",
    "    'ASP.NET Core': '.NET',\n",
    "    'Blazor': '.NET',\n",
    "    'Entity Framework': '.NET',\n",
    "    'WPF': '.NET',\n",
    "    'Windows Forms': '.NET',\n",
    "\n",
    "    # Python\n",
    "    'Python': 'Python',\n",
    "    'Django': 'Python',\n",
    "    'Flask': 'Python',\n",
    "    'FastAPI': 'Python',\n",
    "    'Pyramid': 'Python',\n",
    "    'Bottle': 'Python',\n",
    "    'Falcon': 'Python',\n",
    "    'Tornado': 'Python',\n",
    "\n",
    "    # Machine Learning (Data Science)\n",
    "    'PyTorch': 'Data Science',\n",
    "    'TensorFlow': 'Data Science',\n",
    "    'Scikit-learn': 'Data Science',\n",
    "    'Keras': 'Data Science',\n",
    "    'Pandas': 'Data Science',\n",
    "    'NumPy': 'Data Science',\n",
    "    'Matplotlib': 'Data Science',\n",
    "    'Seaborn': 'Data Science',\n",
    "    'NLTK': 'Data Science',\n",
    "    'spaCy': 'Data Science',\n",
    "    'OpenCV': 'Data Science',\n",
    "    'Deep Learning': 'Data Science',\n",
    "    'Machine Learning': 'Data Science',\n",
    "    'Artificial Intelligence': 'Data Science',\n",
    "    'NLP': 'Data Science',\n",
    "    'Computer Vision': 'Data Science',\n",
    "    'ChatGPT': 'Data Science',\n",
    "    'Generative AI': 'Data Science',\n",
    "    'MLflow': 'Data Science',\n",
    "    'DataRobot': 'Data Science',\n",
    "\n",
    "    # Node.js\n",
    "    'Node.js': 'Node.js',\n",
    "    'Express.js': 'Node.js',\n",
    "    'NestJS': 'Node.js',\n",
    "    'Koa': 'Node.js',\n",
    "    'Sails.js': 'Node.js',\n",
    "    'Meteor': 'Node.js',\n",
    "    'Socket.io': 'Node.js',\n",
    "    'MERN': 'Node.js',\n",
    "    'TypeScript': 'Node.js',\n",
    "    'Full Stack Developer': 'Node.js',\n",
    "    'JavaScript/TypeScript': 'Node.js',\n",
    "\n",
    "    # Java\n",
    "    'Java': 'Java',\n",
    "    'Spring Boot': 'Java',\n",
    "    'Hibernate': 'Java',\n",
    "    'JavaServer Faces': 'Java',\n",
    "    'JSP': 'Java',\n",
    "    'GWT': 'Java',\n",
    "    'Vaadin': 'Java',\n",
    "    'Apache Struts': 'Java',\n",
    "    'Dropwizard': 'Java',\n",
    "\n",
    "    # JavaScript\n",
    "    'JavaScript': 'JavaScript',\n",
    "    'React': 'JavaScript',\n",
    "    'Angular': 'JavaScript',\n",
    "    'Vue.js': 'JavaScript',\n",
    "    'jQuery': 'JavaScript',\n",
    "    'Ember.js': 'JavaScript',\n",
    "    'Backbone.js': 'JavaScript',\n",
    "    'Svelte': 'JavaScript',\n",
    "    'Aurelia': 'JavaScript',\n",
    "\n",
    "    # PHP\n",
    "    'PHP': 'PHP',\n",
    "    'Laravel': 'PHP',\n",
    "    'Symfony': 'PHP',\n",
    "    'CodeIgniter': 'PHP',\n",
    "    'Zend Framework': 'PHP',\n",
    "    'Yii': 'PHP',\n",
    "    'CakePHP': 'PHP',\n",
    "    'FuelPHP': 'PHP',\n",
    "\n",
    "    # C++\n",
    "    'C++': 'C++',\n",
    "    'Qt': 'C++',\n",
    "    'Boost': 'C++',\n",
    "    'Poco': 'C++',\n",
    "    'OpenCV': 'C++',\n",
    "    'Caffe': 'C++',\n",
    "\n",
    "    # C#\n",
    "    'C#': 'C#',\n",
    "    'Xamarin': 'C#',\n",
    "    'Unity': 'C#',\n",
    "    'ASP.NET': 'C#',\n",
    "    'Blazor': 'C#',\n",
    "\n",
    "    # Web Technologies\n",
    "    'HTML': 'Web Technologies',\n",
    "    'CSS': 'Web Technologies',\n",
    "    'JavaScript': 'Web Technologies',\n",
    "    'XML': 'Web Technologies',\n",
    "    'JSON': 'Web Technologies',\n",
    "    'GraphQL': 'Web Technologies',\n",
    "    'REST API': 'Web Technologies',\n",
    "    'SOAP API': 'Web Technologies',\n",
    "    'WebSockets': 'Web Technologies',\n",
    "    'WebRTC': 'Web Technologies',\n",
    "    'Bootstrap': 'Web Technologies',\n",
    "    'Tailwind CSS': 'Web Technologies',\n",
    "    'Sass': 'Web Technologies',\n",
    "    'LESS': 'Web Technologies',\n",
    "\n",
    "    # Databases\n",
    "    'MySQL': 'Databases',\n",
    "    'PostgreSQL': 'Databases',\n",
    "    'MongoDB': 'Databases',\n",
    "    'SQLite': 'Databases',\n",
    "    'Redis': 'Databases',\n",
    "    'Oracle': 'Databases',\n",
    "    'SQL Server': 'Databases',\n",
    "    'Cassandra': 'Databases',\n",
    "    'Firebase': 'Databases',\n",
    "    'Amazon RDS': 'Databases',\n",
    "    'CockroachDB': 'Databases',\n",
    "    'Neo4j': 'Databases',\n",
    "    'Snowflake': 'Databases',\n",
    "    'BigQuery': 'Databases',\n",
    "    'Elasticsearch': 'Databases',\n",
    "\n",
    "    # Cloud Platforms & DevOps\n",
    "    'AWS': 'Cloud Platforms & DevOps',\n",
    "    'Azure': 'Cloud Platforms & DevOps',\n",
    "    'Google Cloud Platform': 'Cloud Platforms & DevOps',\n",
    "    'Heroku': 'Cloud Platforms & DevOps',\n",
    "    'Docker': 'Cloud Platforms & DevOps',\n",
    "    'Kubernetes': 'Cloud Platforms & DevOps',\n",
    "    'Terraform': 'Cloud Platforms & DevOps',\n",
    "    'Jenkins': 'Cloud Platforms & DevOps',\n",
    "    'GitHub': 'Cloud Platforms & DevOps',\n",
    "    'GitLab': 'Cloud Platforms & DevOps',\n",
    "    'Bitbucket': 'Cloud Platforms & DevOps',\n",
    "    'CircleCI': 'Cloud Platforms & DevOps',\n",
    "    'Ansible': 'Cloud Platforms & DevOps',\n",
    "    'Chef': 'Cloud Platforms & DevOps',\n",
    "    'Puppet': 'Cloud Platforms & DevOps',\n",
    "    'DevOps': 'Cloud Platforms & DevOps',\n",
    "\n",
    "    # UI/UX Design\n",
    "    'Figma': 'UI/UX Design',\n",
    "    'Sketch': 'UI/UX Design',\n",
    "    'Adobe XD': 'UI/UX Design',\n",
    "    'InVision': 'UI/UX Design',\n",
    "    'Adobe Illustrator': 'UI/UX Design',\n",
    "    'Photoshop': 'UI/UX Design',\n",
    "\n",
    "    # Testing & QA\n",
    "    'Selenium': 'Testing & QA',\n",
    "    'Jest': 'Testing & QA',\n",
    "    'Mocha': 'Testing & QA',\n",
    "    'Cypress': 'Testing & QA',\n",
    "    'JUnit': 'Testing & QA',\n",
    "    'PyTest': 'Testing & QA',\n",
    "    'TestNG': 'Testing & QA',\n",
    "    'Appium': 'Testing & QA',\n",
    "    'Postman': 'Testing & QA',\n",
    "    'SonarQube': 'Testing & QA',\n",
    "    'JIRA': 'Testing & QA',\n",
    "    'Bugzilla': 'Testing & QA',\n",
    "    'Sentry': 'Testing & QA',\n",
    "\n",
    "    # Miscellaneous\n",
    "    'Salesforce': 'Miscellaneous',\n",
    "    'Shopify': 'Miscellaneous',\n",
    "    'WordPress': 'Miscellaneous',\n",
    "    'Magento': 'Miscellaneous',\n",
    "    'WooCommerce': 'Miscellaneous',\n",
    "    'Joomla': 'Miscellaneous',\n",
    "    'Drupal': 'Miscellaneous',\n",
    "    'OpenCart': 'Miscellaneous',\n",
    "    'Odoo': 'Miscellaneous',\n",
    "    'NetSuite': 'Miscellaneous',\n",
    "    'ERP': 'Miscellaneous',\n",
    "    'CRM': 'Miscellaneous',\n",
    "    'Git': 'Miscellaneous',\n",
    "    'SVN': 'Miscellaneous',\n",
    "    'Apache': 'Miscellaneous',\n",
    "    'Nginx': 'Miscellaneous',\n",
    "    'WebLogic': 'Miscellaneous',\n",
    "    'IIS': 'Miscellaneous'\n",
    "}\n"
   ]
  },
  {
   "cell_type": "code",
   "execution_count": null,
   "metadata": {},
   "outputs": [],
   "source": []
  }
 ],
 "metadata": {
  "kernelspec": {
   "display_name": "KSDS_Bootcamp",
   "language": "python",
   "name": "python3"
  },
  "language_info": {
   "codemirror_mode": {
    "name": "ipython",
    "version": 3
   },
   "file_extension": ".py",
   "mimetype": "text/x-python",
   "name": "python",
   "nbconvert_exporter": "python",
   "pygments_lexer": "ipython3",
   "version": "3.11.7"
  }
 },
 "nbformat": 4,
 "nbformat_minor": 2
}
